{
 "cells": [
  {
   "cell_type": "code",
   "execution_count": 2,
   "metadata": {},
   "outputs": [],
   "source": [
    "#Importing Libraries:\n",
    "import pandas as pd\n",
    "import numpy as np\n",
    "from pathlib import Path\n",
    "import warnings\n",
    "warnings.filterwarnings('ignore')\n",
    "\n",
    "import matplotlib.pyplot as plt\n",
    "%matplotlib inline\n",
    "import plotly.express as px\n",
    "import seaborn as sns\n",
    "\n",
    "# For Data Manipulation:\n",
    "from sklearn.model_selection import train_test_split\n",
    "from sklearn.preprocessing import StandardScaler\n",
    "\n",
    "# For Decision Tree:\n",
    "from sklearn import tree\n",
    "\n",
    "# For Random Forest:\n",
    "from sklearn.ensemble import RandomForestClassifier\n",
    "\n",
    "# For SVM:\n",
    "from sklearn import svm\n",
    "from sklearn.svm import SVC\n",
    "from matplotlib import style\n",
    "style.use('ggplot')\n",
    "\n",
    "# For evaluation:\n",
    "from sklearn.metrics import confusion_matrix, classification_report, accuracy_score"
   ]
  },
  {
   "cell_type": "markdown",
   "metadata": {},
   "source": [
    "# Data Pre-Processing:\n"
   ]
  },
  {
   "cell_type": "code",
   "execution_count": 3,
   "metadata": {},
   "outputs": [],
   "source": [
    "# First, we read in 15-years worth of NBA data in separate CSVs, then concatenate into one DataFrame.\n",
    "\n",
    "# Read in 1st CSV/Season:\n",
    "season_2005_2006_csvpath = Path('CSVs/2005_2006.csv')\n",
    "season_2005_2006_df = pd.read_csv(season_2005_2006_csvpath)\n",
    "\n",
    "# Read in 2nd CSV/Season:\n",
    "season_2006_2007_csvpath = Path('CSVs/2006_2007.csv')\n",
    "season_2006_2007_df = pd.read_csv(season_2006_2007_csvpath)\n",
    "\n",
    "# Read in 3rd CSV/Season:\n",
    "season_2007_2008_csvpath = Path('CSVs/2007_2008.csv')\n",
    "season_2007_2008_df = pd.read_csv(season_2007_2008_csvpath)\n",
    "\n",
    "# Read in 4th CSV/Season:\n",
    "season_2008_2009_csvpath = Path('CSVs/2008_2009.csv')\n",
    "season_2008_2009_df = pd.read_csv(season_2008_2009_csvpath)\n",
    "\n",
    "# Read in 5th CSV/Season:\n",
    "season_2009_2010_csvpath = Path('CSVs/2009_2010.csv')\n",
    "season_2009_2010_df = pd.read_csv(season_2009_2010_csvpath)\n",
    "\n",
    "# Read in 6th CSVCSV/Season:\n",
    "season_2010_2011_csvpath = Path('CSVs/2010_2011.csv')\n",
    "season_2010_2011_df = pd.read_csv(season_2010_2011_csvpath)\n",
    "\n",
    "# Read in 7th CSV/Season:\n",
    "season_2011_2012_csvpath = Path('CSVs/2011_2012.csv')\n",
    "season_2011_2012_df = pd.read_csv(season_2011_2012_csvpath)\n",
    "\n",
    "# Read in 8th CSV/Season:\n",
    "season_2012_2013_csvpath = Path('CSVs/2012_2013.csv')\n",
    "season_2012_2013_df = pd.read_csv(season_2012_2013_csvpath)\n",
    "\n",
    "# Read in 9th CSV/Season:\n",
    "season_2013_2014_csvpath = Path('CSVs/2013_2014.csv')\n",
    "season_2013_2014_df = pd.read_csv(season_2013_2014_csvpath)\n",
    "\n",
    "# Read in 10th CSV/Season:\n",
    "season_2014_2015_csvpath = Path('CSVs/2014_2015.csv')\n",
    "season_2014_2015_df = pd.read_csv(season_2014_2015_csvpath)\n",
    "\n",
    "# Read in 11th CSV/Season:\n",
    "season_2015_2016_csvpath = Path('CSVs/2015_2016.csv')\n",
    "season_2015_2016_df = pd.read_csv(season_2015_2016_csvpath)\n",
    "\n",
    "# Read in 12th CSV/Season:\n",
    "season_2016_2017_csvpath = Path('CSVs/2016_2017.csv')\n",
    "season_2016_2017_df = pd.read_csv(season_2016_2017_csvpath)\n",
    "\n",
    "# Read in 13th CSV/Season:\n",
    "season_2017_2018_csvpath = Path('CSVs/2017_2018.csv')\n",
    "season_2017_2018_df = pd.read_csv(season_2017_2018_csvpath)\n",
    "\n",
    "# Read in 14th CSV/Season:\n",
    "season_2018_2019_csvpath = Path('CSVs/2018_2019.csv')\n",
    "season_2018_2019_df = pd.read_csv(season_2018_2019_csvpath)\n",
    "\n",
    "# Read in 15th CSV/Season:\n",
    "season_2019_2020_csvpath = Path('CSVs/2019_2020.csv')\n",
    "season_2019_2020_df = pd.read_csv(season_2019_2020_csvpath)\n",
    "\n",
    "# Concatenate all seasons into one DataFrame:\n",
    "original_df = pd.concat([season_2005_2006_df, season_2006_2007_df, season_2007_2008_df, season_2008_2009_df, season_2009_2010_df, season_2010_2011_df, season_2011_2012_df, season_2012_2013_df, season_2013_2014_df, season_2014_2015_df, season_2015_2016_df, season_2016_2017_df, season_2017_2018_df, season_2018_2019_df, season_2019_2020_df], axis = 'rows', join='inner')\n",
    "\n",
    "# Set Pandas option to show all DataFrame columns (without showing truncated ... in middle):\n",
    "pd.set_option('display.max_rows', None, 'display.max_columns', None)"
   ]
  },
  {
   "cell_type": "code",
   "execution_count": 4,
   "metadata": {},
   "outputs": [
    {
     "data": {
      "text/html": [
       "<div>\n",
       "<style scoped>\n",
       "    .dataframe tbody tr th:only-of-type {\n",
       "        vertical-align: middle;\n",
       "    }\n",
       "\n",
       "    .dataframe tbody tr th {\n",
       "        vertical-align: top;\n",
       "    }\n",
       "\n",
       "    .dataframe thead th {\n",
       "        text-align: right;\n",
       "    }\n",
       "</style>\n",
       "<table border=\"1\" class=\"dataframe\">\n",
       "  <thead>\n",
       "    <tr style=\"text-align: right;\">\n",
       "      <th></th>\n",
       "      <th>Rk</th>\n",
       "      <th>Player</th>\n",
       "      <th>Pos</th>\n",
       "      <th>Age</th>\n",
       "      <th>Tm</th>\n",
       "      <th>G</th>\n",
       "      <th>GS</th>\n",
       "      <th>MP</th>\n",
       "      <th>FG</th>\n",
       "      <th>FGA</th>\n",
       "      <th>FG%</th>\n",
       "      <th>3P</th>\n",
       "      <th>3PA</th>\n",
       "      <th>3P%</th>\n",
       "      <th>2P</th>\n",
       "      <th>2PA</th>\n",
       "      <th>2P%</th>\n",
       "      <th>FT</th>\n",
       "      <th>FTA</th>\n",
       "      <th>FT%</th>\n",
       "      <th>ORB</th>\n",
       "      <th>DRB</th>\n",
       "      <th>TRB</th>\n",
       "      <th>AST</th>\n",
       "      <th>STL</th>\n",
       "      <th>BLK</th>\n",
       "      <th>TOV</th>\n",
       "      <th>PF</th>\n",
       "      <th>PTS</th>\n",
       "    </tr>\n",
       "  </thead>\n",
       "  <tbody>\n",
       "    <tr>\n",
       "      <th>0</th>\n",
       "      <td>1</td>\n",
       "      <td>Shareef Abdur-Rahim</td>\n",
       "      <td>PF</td>\n",
       "      <td>29</td>\n",
       "      <td>SAC</td>\n",
       "      <td>72</td>\n",
       "      <td>30</td>\n",
       "      <td>1961</td>\n",
       "      <td>6.1</td>\n",
       "      <td>11.6</td>\n",
       "      <td>0.525</td>\n",
       "      <td>0.1</td>\n",
       "      <td>0.4</td>\n",
       "      <td>0.227</td>\n",
       "      <td>6.0</td>\n",
       "      <td>11.2</td>\n",
       "      <td>0.536</td>\n",
       "      <td>4.0</td>\n",
       "      <td>5.1</td>\n",
       "      <td>0.784</td>\n",
       "      <td>1.9</td>\n",
       "      <td>4.6</td>\n",
       "      <td>6.6</td>\n",
       "      <td>2.7</td>\n",
       "      <td>0.9</td>\n",
       "      <td>0.8</td>\n",
       "      <td>2.0</td>\n",
       "      <td>4.2</td>\n",
       "      <td>16.3</td>\n",
       "    </tr>\n",
       "    <tr>\n",
       "      <th>1</th>\n",
       "      <td>2</td>\n",
       "      <td>Alex Acker</td>\n",
       "      <td>SG</td>\n",
       "      <td>23</td>\n",
       "      <td>DET</td>\n",
       "      <td>5</td>\n",
       "      <td>0</td>\n",
       "      <td>35</td>\n",
       "      <td>4.1</td>\n",
       "      <td>16.5</td>\n",
       "      <td>0.250</td>\n",
       "      <td>1.0</td>\n",
       "      <td>5.1</td>\n",
       "      <td>0.200</td>\n",
       "      <td>3.1</td>\n",
       "      <td>11.3</td>\n",
       "      <td>0.273</td>\n",
       "      <td>0.0</td>\n",
       "      <td>0.0</td>\n",
       "      <td>NaN</td>\n",
       "      <td>1.0</td>\n",
       "      <td>4.1</td>\n",
       "      <td>5.1</td>\n",
       "      <td>4.1</td>\n",
       "      <td>1.0</td>\n",
       "      <td>0.0</td>\n",
       "      <td>4.1</td>\n",
       "      <td>4.1</td>\n",
       "      <td>9.3</td>\n",
       "    </tr>\n",
       "    <tr>\n",
       "      <th>2</th>\n",
       "      <td>3</td>\n",
       "      <td>Malik Allen</td>\n",
       "      <td>PF</td>\n",
       "      <td>27</td>\n",
       "      <td>CHI</td>\n",
       "      <td>54</td>\n",
       "      <td>20</td>\n",
       "      <td>701</td>\n",
       "      <td>6.2</td>\n",
       "      <td>12.7</td>\n",
       "      <td>0.490</td>\n",
       "      <td>0.1</td>\n",
       "      <td>0.1</td>\n",
       "      <td>1.000</td>\n",
       "      <td>6.2</td>\n",
       "      <td>12.6</td>\n",
       "      <td>0.488</td>\n",
       "      <td>1.2</td>\n",
       "      <td>2.0</td>\n",
       "      <td>0.605</td>\n",
       "      <td>2.3</td>\n",
       "      <td>4.9</td>\n",
       "      <td>7.2</td>\n",
       "      <td>1.0</td>\n",
       "      <td>0.7</td>\n",
       "      <td>0.8</td>\n",
       "      <td>1.7</td>\n",
       "      <td>4.7</td>\n",
       "      <td>13.7</td>\n",
       "    </tr>\n",
       "  </tbody>\n",
       "</table>\n",
       "</div>"
      ],
      "text/plain": [
       "   Rk               Player Pos  Age   Tm   G  GS    MP   FG   FGA    FG%   3P  \\\n",
       "0   1  Shareef Abdur-Rahim  PF   29  SAC  72  30  1961  6.1  11.6  0.525  0.1   \n",
       "1   2           Alex Acker  SG   23  DET   5   0    35  4.1  16.5  0.250  1.0   \n",
       "2   3          Malik Allen  PF   27  CHI  54  20   701  6.2  12.7  0.490  0.1   \n",
       "\n",
       "   3PA    3P%   2P   2PA    2P%   FT  FTA    FT%  ORB  DRB  TRB  AST  STL  \\\n",
       "0  0.4  0.227  6.0  11.2  0.536  4.0  5.1  0.784  1.9  4.6  6.6  2.7  0.9   \n",
       "1  5.1  0.200  3.1  11.3  0.273  0.0  0.0    NaN  1.0  4.1  5.1  4.1  1.0   \n",
       "2  0.1  1.000  6.2  12.6  0.488  1.2  2.0  0.605  2.3  4.9  7.2  1.0  0.7   \n",
       "\n",
       "   BLK  TOV   PF   PTS  \n",
       "0  0.8  2.0  4.2  16.3  \n",
       "1  0.0  4.1  4.1   9.3  \n",
       "2  0.8  1.7  4.7  13.7  "
      ]
     },
     "execution_count": 4,
     "metadata": {},
     "output_type": "execute_result"
    }
   ],
   "source": [
    "# Preview original DataFrame:\n",
    "original_df.head(3)"
   ]
  },
  {
   "cell_type": "code",
   "execution_count": 5,
   "metadata": {},
   "outputs": [],
   "source": [
    "# Create pre-conversion \"shape\" variable:\n",
    "shape_pre_conversion = original_df.shape"
   ]
  },
  {
   "cell_type": "code",
   "execution_count": 6,
   "metadata": {},
   "outputs": [
    {
     "data": {
      "text/html": [
       "<div>\n",
       "<style scoped>\n",
       "    .dataframe tbody tr th:only-of-type {\n",
       "        vertical-align: middle;\n",
       "    }\n",
       "\n",
       "    .dataframe tbody tr th {\n",
       "        vertical-align: top;\n",
       "    }\n",
       "\n",
       "    .dataframe thead th {\n",
       "        text-align: right;\n",
       "    }\n",
       "</style>\n",
       "<table border=\"1\" class=\"dataframe\">\n",
       "  <thead>\n",
       "    <tr style=\"text-align: right;\">\n",
       "      <th></th>\n",
       "      <th>Rk</th>\n",
       "      <th>Player</th>\n",
       "      <th>Pos</th>\n",
       "      <th>Age</th>\n",
       "      <th>Tm</th>\n",
       "      <th>G</th>\n",
       "      <th>GS</th>\n",
       "      <th>MP</th>\n",
       "      <th>FG</th>\n",
       "      <th>FGA</th>\n",
       "      <th>FG%</th>\n",
       "      <th>3P</th>\n",
       "      <th>3PA</th>\n",
       "      <th>3P%</th>\n",
       "      <th>2P</th>\n",
       "      <th>2PA</th>\n",
       "      <th>2P%</th>\n",
       "      <th>FT</th>\n",
       "      <th>FTA</th>\n",
       "      <th>FT%</th>\n",
       "      <th>ORB</th>\n",
       "      <th>DRB</th>\n",
       "      <th>TRB</th>\n",
       "      <th>AST</th>\n",
       "      <th>STL</th>\n",
       "      <th>BLK</th>\n",
       "      <th>TOV</th>\n",
       "      <th>PF</th>\n",
       "      <th>PTS</th>\n",
       "    </tr>\n",
       "  </thead>\n",
       "  <tbody>\n",
       "    <tr>\n",
       "      <th>0</th>\n",
       "      <td>1</td>\n",
       "      <td>Shareef Abdur-Rahim</td>\n",
       "      <td>PF</td>\n",
       "      <td>29</td>\n",
       "      <td>SAC</td>\n",
       "      <td>72</td>\n",
       "      <td>30</td>\n",
       "      <td>1961</td>\n",
       "      <td>6.1</td>\n",
       "      <td>11.6</td>\n",
       "      <td>0.525</td>\n",
       "      <td>0.1</td>\n",
       "      <td>0.4</td>\n",
       "      <td>0.227</td>\n",
       "      <td>6.0</td>\n",
       "      <td>11.2</td>\n",
       "      <td>0.536</td>\n",
       "      <td>4.0</td>\n",
       "      <td>5.1</td>\n",
       "      <td>0.784</td>\n",
       "      <td>1.9</td>\n",
       "      <td>4.6</td>\n",
       "      <td>6.6</td>\n",
       "      <td>2.7</td>\n",
       "      <td>0.9</td>\n",
       "      <td>0.8</td>\n",
       "      <td>2.0</td>\n",
       "      <td>4.2</td>\n",
       "      <td>16.3</td>\n",
       "    </tr>\n",
       "    <tr>\n",
       "      <th>3</th>\n",
       "      <td>4</td>\n",
       "      <td>Ray Allen*</td>\n",
       "      <td>SG</td>\n",
       "      <td>30</td>\n",
       "      <td>SEA</td>\n",
       "      <td>78</td>\n",
       "      <td>78</td>\n",
       "      <td>3022</td>\n",
       "      <td>8.1</td>\n",
       "      <td>17.9</td>\n",
       "      <td>0.454</td>\n",
       "      <td>3.2</td>\n",
       "      <td>7.8</td>\n",
       "      <td>0.412</td>\n",
       "      <td>4.9</td>\n",
       "      <td>10.1</td>\n",
       "      <td>0.486</td>\n",
       "      <td>3.9</td>\n",
       "      <td>4.3</td>\n",
       "      <td>0.903</td>\n",
       "      <td>0.8</td>\n",
       "      <td>3.1</td>\n",
       "      <td>4.0</td>\n",
       "      <td>3.4</td>\n",
       "      <td>1.3</td>\n",
       "      <td>0.2</td>\n",
       "      <td>2.2</td>\n",
       "      <td>1.8</td>\n",
       "      <td>23.3</td>\n",
       "    </tr>\n",
       "    <tr>\n",
       "      <th>4</th>\n",
       "      <td>5</td>\n",
       "      <td>Tony Allen</td>\n",
       "      <td>PG</td>\n",
       "      <td>24</td>\n",
       "      <td>BOS</td>\n",
       "      <td>51</td>\n",
       "      <td>9</td>\n",
       "      <td>978</td>\n",
       "      <td>4.7</td>\n",
       "      <td>10.1</td>\n",
       "      <td>0.471</td>\n",
       "      <td>0.4</td>\n",
       "      <td>1.3</td>\n",
       "      <td>0.324</td>\n",
       "      <td>4.3</td>\n",
       "      <td>8.8</td>\n",
       "      <td>0.492</td>\n",
       "      <td>3.7</td>\n",
       "      <td>4.9</td>\n",
       "      <td>0.746</td>\n",
       "      <td>1.2</td>\n",
       "      <td>2.9</td>\n",
       "      <td>4.1</td>\n",
       "      <td>2.5</td>\n",
       "      <td>1.9</td>\n",
       "      <td>0.7</td>\n",
       "      <td>2.5</td>\n",
       "      <td>4.6</td>\n",
       "      <td>13.6</td>\n",
       "    </tr>\n",
       "    <tr>\n",
       "      <th>5</th>\n",
       "      <td>6</td>\n",
       "      <td>Rafer Alston</td>\n",
       "      <td>PG</td>\n",
       "      <td>29</td>\n",
       "      <td>HOU</td>\n",
       "      <td>63</td>\n",
       "      <td>63</td>\n",
       "      <td>2431</td>\n",
       "      <td>4.1</td>\n",
       "      <td>10.9</td>\n",
       "      <td>0.379</td>\n",
       "      <td>1.5</td>\n",
       "      <td>4.6</td>\n",
       "      <td>0.327</td>\n",
       "      <td>2.6</td>\n",
       "      <td>6.3</td>\n",
       "      <td>0.418</td>\n",
       "      <td>1.5</td>\n",
       "      <td>2.1</td>\n",
       "      <td>0.692</td>\n",
       "      <td>0.5</td>\n",
       "      <td>3.2</td>\n",
       "      <td>3.8</td>\n",
       "      <td>6.3</td>\n",
       "      <td>1.5</td>\n",
       "      <td>0.2</td>\n",
       "      <td>2.3</td>\n",
       "      <td>2.9</td>\n",
       "      <td>11.3</td>\n",
       "    </tr>\n",
       "    <tr>\n",
       "      <th>8</th>\n",
       "      <td>9</td>\n",
       "      <td>Derek Anderson</td>\n",
       "      <td>SG</td>\n",
       "      <td>31</td>\n",
       "      <td>TOT</td>\n",
       "      <td>43</td>\n",
       "      <td>11</td>\n",
       "      <td>1047</td>\n",
       "      <td>3.7</td>\n",
       "      <td>10.4</td>\n",
       "      <td>0.356</td>\n",
       "      <td>1.4</td>\n",
       "      <td>4.6</td>\n",
       "      <td>0.299</td>\n",
       "      <td>2.3</td>\n",
       "      <td>5.8</td>\n",
       "      <td>0.402</td>\n",
       "      <td>3.2</td>\n",
       "      <td>3.8</td>\n",
       "      <td>0.838</td>\n",
       "      <td>0.7</td>\n",
       "      <td>4.2</td>\n",
       "      <td>4.9</td>\n",
       "      <td>3.5</td>\n",
       "      <td>0.8</td>\n",
       "      <td>0.2</td>\n",
       "      <td>1.9</td>\n",
       "      <td>3.4</td>\n",
       "      <td>12.0</td>\n",
       "    </tr>\n",
       "  </tbody>\n",
       "</table>\n",
       "</div>"
      ],
      "text/plain": [
       "   Rk               Player Pos  Age   Tm   G  GS    MP   FG   FGA    FG%   3P  \\\n",
       "0   1  Shareef Abdur-Rahim  PF   29  SAC  72  30  1961  6.1  11.6  0.525  0.1   \n",
       "3   4           Ray Allen*  SG   30  SEA  78  78  3022  8.1  17.9  0.454  3.2   \n",
       "4   5           Tony Allen  PG   24  BOS  51   9   978  4.7  10.1  0.471  0.4   \n",
       "5   6         Rafer Alston  PG   29  HOU  63  63  2431  4.1  10.9  0.379  1.5   \n",
       "8   9       Derek Anderson  SG   31  TOT  43  11  1047  3.7  10.4  0.356  1.4   \n",
       "\n",
       "   3PA    3P%   2P   2PA    2P%   FT  FTA    FT%  ORB  DRB  TRB  AST  STL  \\\n",
       "0  0.4  0.227  6.0  11.2  0.536  4.0  5.1  0.784  1.9  4.6  6.6  2.7  0.9   \n",
       "3  7.8  0.412  4.9  10.1  0.486  3.9  4.3  0.903  0.8  3.1  4.0  3.4  1.3   \n",
       "4  1.3  0.324  4.3   8.8  0.492  3.7  4.9  0.746  1.2  2.9  4.1  2.5  1.9   \n",
       "5  4.6  0.327  2.6   6.3  0.418  1.5  2.1  0.692  0.5  3.2  3.8  6.3  1.5   \n",
       "8  4.6  0.299  2.3   5.8  0.402  3.2  3.8  0.838  0.7  4.2  4.9  3.5  0.8   \n",
       "\n",
       "   BLK  TOV   PF   PTS  \n",
       "0  0.8  2.0  4.2  16.3  \n",
       "3  0.2  2.2  1.8  23.3  \n",
       "4  0.7  2.5  4.6  13.6  \n",
       "5  0.2  2.3  2.9  11.3  \n",
       "8  0.2  1.9  3.4  12.0  "
      ]
     },
     "execution_count": 6,
     "metadata": {},
     "output_type": "execute_result"
    }
   ],
   "source": [
    "# Filter DataFrame to only include rows with at least 820 Minutes Played (10 min/game * 82/games)\n",
    "# Rows containing players with less than 820 minutes played would unfairly skew the data.\n",
    "# For instance, if a player plays only 1 minute for a team and scores 2 points, his Points Per 36 Minutes would be 72;\n",
    "# clearly not a fair representation.\n",
    "\n",
    "original_df = original_df[original_df.MP >= 820]\n",
    "original_df.head()"
   ]
  },
  {
   "cell_type": "code",
   "execution_count": 7,
   "metadata": {},
   "outputs": [
    {
     "data": {
      "text/html": [
       "<div>\n",
       "<style scoped>\n",
       "    .dataframe tbody tr th:only-of-type {\n",
       "        vertical-align: middle;\n",
       "    }\n",
       "\n",
       "    .dataframe tbody tr th {\n",
       "        vertical-align: top;\n",
       "    }\n",
       "\n",
       "    .dataframe thead th {\n",
       "        text-align: right;\n",
       "    }\n",
       "</style>\n",
       "<table border=\"1\" class=\"dataframe\">\n",
       "  <thead>\n",
       "    <tr style=\"text-align: right;\">\n",
       "      <th></th>\n",
       "      <th>PTS</th>\n",
       "      <th>TRB</th>\n",
       "      <th>ORB</th>\n",
       "      <th>AST</th>\n",
       "      <th>STL</th>\n",
       "      <th>BLK</th>\n",
       "      <th>FG</th>\n",
       "      <th>FGA</th>\n",
       "      <th>FG%</th>\n",
       "      <th>3P</th>\n",
       "      <th>3PA</th>\n",
       "      <th>3P%</th>\n",
       "      <th>2P</th>\n",
       "      <th>2PA</th>\n",
       "      <th>2P%</th>\n",
       "      <th>FT</th>\n",
       "      <th>FTA</th>\n",
       "      <th>FT%</th>\n",
       "      <th>PF</th>\n",
       "      <th>TOV</th>\n",
       "      <th>Pos</th>\n",
       "    </tr>\n",
       "  </thead>\n",
       "  <tbody>\n",
       "    <tr>\n",
       "      <th>0</th>\n",
       "      <td>16.3</td>\n",
       "      <td>6.6</td>\n",
       "      <td>1.9</td>\n",
       "      <td>2.7</td>\n",
       "      <td>0.9</td>\n",
       "      <td>0.8</td>\n",
       "      <td>6.1</td>\n",
       "      <td>11.6</td>\n",
       "      <td>0.52</td>\n",
       "      <td>0.1</td>\n",
       "      <td>0.4</td>\n",
       "      <td>0.23</td>\n",
       "      <td>6.0</td>\n",
       "      <td>11.2</td>\n",
       "      <td>0.54</td>\n",
       "      <td>4.0</td>\n",
       "      <td>5.1</td>\n",
       "      <td>0.78</td>\n",
       "      <td>4.2</td>\n",
       "      <td>2.0</td>\n",
       "      <td>PF</td>\n",
       "    </tr>\n",
       "    <tr>\n",
       "      <th>3</th>\n",
       "      <td>23.3</td>\n",
       "      <td>4.0</td>\n",
       "      <td>0.8</td>\n",
       "      <td>3.4</td>\n",
       "      <td>1.3</td>\n",
       "      <td>0.2</td>\n",
       "      <td>8.1</td>\n",
       "      <td>17.9</td>\n",
       "      <td>0.45</td>\n",
       "      <td>3.2</td>\n",
       "      <td>7.8</td>\n",
       "      <td>0.41</td>\n",
       "      <td>4.9</td>\n",
       "      <td>10.1</td>\n",
       "      <td>0.49</td>\n",
       "      <td>3.9</td>\n",
       "      <td>4.3</td>\n",
       "      <td>0.90</td>\n",
       "      <td>1.8</td>\n",
       "      <td>2.2</td>\n",
       "      <td>SG</td>\n",
       "    </tr>\n",
       "    <tr>\n",
       "      <th>4</th>\n",
       "      <td>13.6</td>\n",
       "      <td>4.1</td>\n",
       "      <td>1.2</td>\n",
       "      <td>2.5</td>\n",
       "      <td>1.9</td>\n",
       "      <td>0.7</td>\n",
       "      <td>4.7</td>\n",
       "      <td>10.1</td>\n",
       "      <td>0.47</td>\n",
       "      <td>0.4</td>\n",
       "      <td>1.3</td>\n",
       "      <td>0.32</td>\n",
       "      <td>4.3</td>\n",
       "      <td>8.8</td>\n",
       "      <td>0.49</td>\n",
       "      <td>3.7</td>\n",
       "      <td>4.9</td>\n",
       "      <td>0.75</td>\n",
       "      <td>4.6</td>\n",
       "      <td>2.5</td>\n",
       "      <td>PG</td>\n",
       "    </tr>\n",
       "    <tr>\n",
       "      <th>5</th>\n",
       "      <td>11.3</td>\n",
       "      <td>3.8</td>\n",
       "      <td>0.5</td>\n",
       "      <td>6.3</td>\n",
       "      <td>1.5</td>\n",
       "      <td>0.2</td>\n",
       "      <td>4.1</td>\n",
       "      <td>10.9</td>\n",
       "      <td>0.38</td>\n",
       "      <td>1.5</td>\n",
       "      <td>4.6</td>\n",
       "      <td>0.33</td>\n",
       "      <td>2.6</td>\n",
       "      <td>6.3</td>\n",
       "      <td>0.42</td>\n",
       "      <td>1.5</td>\n",
       "      <td>2.1</td>\n",
       "      <td>0.69</td>\n",
       "      <td>2.9</td>\n",
       "      <td>2.3</td>\n",
       "      <td>PG</td>\n",
       "    </tr>\n",
       "    <tr>\n",
       "      <th>8</th>\n",
       "      <td>12.0</td>\n",
       "      <td>4.9</td>\n",
       "      <td>0.7</td>\n",
       "      <td>3.5</td>\n",
       "      <td>0.8</td>\n",
       "      <td>0.2</td>\n",
       "      <td>3.7</td>\n",
       "      <td>10.4</td>\n",
       "      <td>0.36</td>\n",
       "      <td>1.4</td>\n",
       "      <td>4.6</td>\n",
       "      <td>0.30</td>\n",
       "      <td>2.3</td>\n",
       "      <td>5.8</td>\n",
       "      <td>0.40</td>\n",
       "      <td>3.2</td>\n",
       "      <td>3.8</td>\n",
       "      <td>0.84</td>\n",
       "      <td>3.4</td>\n",
       "      <td>1.9</td>\n",
       "      <td>SG</td>\n",
       "    </tr>\n",
       "  </tbody>\n",
       "</table>\n",
       "</div>"
      ],
      "text/plain": [
       "    PTS  TRB  ORB  AST  STL  BLK   FG   FGA   FG%   3P  3PA   3P%   2P   2PA  \\\n",
       "0  16.3  6.6  1.9  2.7  0.9  0.8  6.1  11.6  0.52  0.1  0.4  0.23  6.0  11.2   \n",
       "3  23.3  4.0  0.8  3.4  1.3  0.2  8.1  17.9  0.45  3.2  7.8  0.41  4.9  10.1   \n",
       "4  13.6  4.1  1.2  2.5  1.9  0.7  4.7  10.1  0.47  0.4  1.3  0.32  4.3   8.8   \n",
       "5  11.3  3.8  0.5  6.3  1.5  0.2  4.1  10.9  0.38  1.5  4.6  0.33  2.6   6.3   \n",
       "8  12.0  4.9  0.7  3.5  0.8  0.2  3.7  10.4  0.36  1.4  4.6  0.30  2.3   5.8   \n",
       "\n",
       "    2P%   FT  FTA   FT%   PF  TOV Pos  \n",
       "0  0.54  4.0  5.1  0.78  4.2  2.0  PF  \n",
       "3  0.49  3.9  4.3  0.90  1.8  2.2  SG  \n",
       "4  0.49  3.7  4.9  0.75  4.6  2.5  PG  \n",
       "5  0.42  1.5  2.1  0.69  2.9  2.3  PG  \n",
       "8  0.40  3.2  3.8  0.84  3.4  1.9  SG  "
      ]
     },
     "execution_count": 7,
     "metadata": {},
     "output_type": "execute_result"
    }
   ],
   "source": [
    "# Slice original dataframe into new dataframe with relevant columns, while appropriately ordering columns:\n",
    "df = original_df[['PTS', 'TRB', 'ORB', 'AST', 'STL', 'BLK', 'FG', 'FGA', 'FG%', '3P', '3PA', '3P%', '2P', '2PA', '2P%', 'FT', 'FTA', 'FT%', 'PF', 'TOV', 'Pos']]\n",
    "\n",
    "# Drop nulls:\n",
    "df = df.dropna()\n",
    "\n",
    "# Convert mixed positions, like \"C-PF\" and \"PF-SF\" into one of the 5 main basketball positions:\n",
    "df = df.replace(\"C-PF\",\"C\")\n",
    "df = df.replace(\"PF-SF\",\"PF\")\n",
    "df = df.replace(\"SF-SG\",\"SF\")\n",
    "df = df.replace(\"SG-PG\",\"SG\")\n",
    "df = df.replace(\"PF-C\",\"PF\")\n",
    "df = df.replace(\"PG-SG\",\"PG\")\n",
    "df = df.replace(\"SF-PF\",\"SF\")\n",
    "df = df.replace(\"SG-SF\",\"SG\")\n",
    "df = df.replace(\"SG-PF\",\"SG\")\n",
    "\n",
    "# Round all numerical columns to show 2 decimals max:\n",
    "df = df.round({'PTS': 2})\n",
    "df = df.round({'TRB': 2})\n",
    "df = df.round({'ORB': 2})\n",
    "df = df.round({'AST': 2})\n",
    "df = df.round({'STL': 2})\n",
    "df = df.round({'BLK': 2})\n",
    "df = df.round({'FG': 2})\n",
    "df = df.round({'FGA': 2})\n",
    "df = df.round({'FG%': 2})\n",
    "df = df.round({'3P': 2})\n",
    "df = df.round({'3PA': 2})\n",
    "df = df.round({'3P%': 2})\n",
    "df = df.round({'2P': 2})\n",
    "df = df.round({'2PA': 2})\n",
    "df = df.round({'2P%': 2})\n",
    "df = df.round({'FT': 2})\n",
    "df = df.round({'FTA': 2})\n",
    "df = df.round({'FT%': 2})\n",
    "df = df.round({'PF': 2})\n",
    "df = df.round({'TOV': 2})\n",
    "\n",
    "# Confirm new DataFrame:\n",
    "df.head()"
   ]
  },
  {
   "cell_type": "code",
   "execution_count": 8,
   "metadata": {},
   "outputs": [
    {
     "name": "stdout",
     "output_type": "stream",
     "text": [
      "Shape Pre-Conversion: (7089, 29)\n",
      "Shape Post-Conversion: (4051, 21)\n"
     ]
    }
   ],
   "source": [
    "shape_post_conversion = df.shape\n",
    "\n",
    "print(f'Shape Pre-Conversion: {shape_pre_conversion}')\n",
    "print(f'Shape Post-Conversion: {shape_post_conversion}')"
   ]
  },
  {
   "cell_type": "code",
   "execution_count": 9,
   "metadata": {},
   "outputs": [
    {
     "data": {
      "text/plain": [
       "SG    947\n",
       "PG    873\n",
       "PF    814\n",
       "SF    809\n",
       "C     608\n",
       "Name: Pos, dtype: int64"
      ]
     },
     "execution_count": 9,
     "metadata": {},
     "output_type": "execute_result"
    }
   ],
   "source": [
    "# Check how many of each position in y-dataset:\n",
    "df.loc[:, 'Pos'].value_counts()"
   ]
  },
  {
   "cell_type": "markdown",
   "metadata": {},
   "source": [
    "# Data Visualization:"
   ]
  },
  {
   "cell_type": "code",
   "execution_count": 10,
   "metadata": {},
   "outputs": [
    {
     "data": {
      "text/html": [
       "<div>\n",
       "<style scoped>\n",
       "    .dataframe tbody tr th:only-of-type {\n",
       "        vertical-align: middle;\n",
       "    }\n",
       "\n",
       "    .dataframe tbody tr th {\n",
       "        vertical-align: top;\n",
       "    }\n",
       "\n",
       "    .dataframe thead th {\n",
       "        text-align: right;\n",
       "    }\n",
       "</style>\n",
       "<table border=\"1\" class=\"dataframe\">\n",
       "  <thead>\n",
       "    <tr style=\"text-align: right;\">\n",
       "      <th></th>\n",
       "      <th>PTS</th>\n",
       "      <th>TRB</th>\n",
       "      <th>ORB</th>\n",
       "      <th>AST</th>\n",
       "      <th>STL</th>\n",
       "      <th>BLK</th>\n",
       "      <th>FG</th>\n",
       "      <th>FGA</th>\n",
       "      <th>FG%</th>\n",
       "      <th>3P</th>\n",
       "      <th>3PA</th>\n",
       "      <th>3P%</th>\n",
       "      <th>2P</th>\n",
       "      <th>2PA</th>\n",
       "      <th>2P%</th>\n",
       "      <th>FT</th>\n",
       "      <th>FTA</th>\n",
       "      <th>FT%</th>\n",
       "      <th>PF</th>\n",
       "      <th>TOV</th>\n",
       "    </tr>\n",
       "    <tr>\n",
       "      <th>Pos</th>\n",
       "      <th></th>\n",
       "      <th></th>\n",
       "      <th></th>\n",
       "      <th></th>\n",
       "      <th></th>\n",
       "      <th></th>\n",
       "      <th></th>\n",
       "      <th></th>\n",
       "      <th></th>\n",
       "      <th></th>\n",
       "      <th></th>\n",
       "      <th></th>\n",
       "      <th></th>\n",
       "      <th></th>\n",
       "      <th></th>\n",
       "      <th></th>\n",
       "      <th></th>\n",
       "      <th></th>\n",
       "      <th></th>\n",
       "      <th></th>\n",
       "    </tr>\n",
       "  </thead>\n",
       "  <tbody>\n",
       "    <tr>\n",
       "      <th>C</th>\n",
       "      <td>14.969737</td>\n",
       "      <td>10.123026</td>\n",
       "      <td>3.121546</td>\n",
       "      <td>2.105592</td>\n",
       "      <td>0.912007</td>\n",
       "      <td>1.553454</td>\n",
       "      <td>5.918750</td>\n",
       "      <td>11.546217</td>\n",
       "      <td>0.517039</td>\n",
       "      <td>0.317763</td>\n",
       "      <td>0.943257</td>\n",
       "      <td>0.171497</td>\n",
       "      <td>5.599013</td>\n",
       "      <td>10.600164</td>\n",
       "      <td>0.531562</td>\n",
       "      <td>2.807401</td>\n",
       "      <td>4.006086</td>\n",
       "      <td>0.700181</td>\n",
       "      <td>3.916776</td>\n",
       "      <td>2.058553</td>\n",
       "    </tr>\n",
       "    <tr>\n",
       "      <th>PF</th>\n",
       "      <td>15.100000</td>\n",
       "      <td>8.214619</td>\n",
       "      <td>2.244103</td>\n",
       "      <td>2.179730</td>\n",
       "      <td>0.997174</td>\n",
       "      <td>0.885258</td>\n",
       "      <td>5.793489</td>\n",
       "      <td>12.329484</td>\n",
       "      <td>0.469668</td>\n",
       "      <td>0.951843</td>\n",
       "      <td>2.698034</td>\n",
       "      <td>0.270590</td>\n",
       "      <td>4.840909</td>\n",
       "      <td>9.628010</td>\n",
       "      <td>0.501794</td>\n",
       "      <td>2.554545</td>\n",
       "      <td>3.461425</td>\n",
       "      <td>0.735037</td>\n",
       "      <td>3.413882</td>\n",
       "      <td>1.841278</td>\n",
       "    </tr>\n",
       "    <tr>\n",
       "      <th>PG</th>\n",
       "      <td>15.098053</td>\n",
       "      <td>3.889691</td>\n",
       "      <td>0.692096</td>\n",
       "      <td>6.211798</td>\n",
       "      <td>1.347194</td>\n",
       "      <td>0.259450</td>\n",
       "      <td>5.495762</td>\n",
       "      <td>12.736312</td>\n",
       "      <td>0.429530</td>\n",
       "      <td>1.429439</td>\n",
       "      <td>4.022337</td>\n",
       "      <td>0.337010</td>\n",
       "      <td>4.064032</td>\n",
       "      <td>8.717182</td>\n",
       "      <td>0.462875</td>\n",
       "      <td>2.676518</td>\n",
       "      <td>3.325544</td>\n",
       "      <td>0.796128</td>\n",
       "      <td>2.704238</td>\n",
       "      <td>2.540664</td>\n",
       "    </tr>\n",
       "    <tr>\n",
       "      <th>SF</th>\n",
       "      <td>14.359580</td>\n",
       "      <td>5.592213</td>\n",
       "      <td>1.212361</td>\n",
       "      <td>2.485167</td>\n",
       "      <td>1.168480</td>\n",
       "      <td>0.575525</td>\n",
       "      <td>5.224722</td>\n",
       "      <td>11.826452</td>\n",
       "      <td>0.440284</td>\n",
       "      <td>1.449567</td>\n",
       "      <td>4.053770</td>\n",
       "      <td>0.341014</td>\n",
       "      <td>3.774660</td>\n",
       "      <td>7.772682</td>\n",
       "      <td>0.485426</td>\n",
       "      <td>2.460445</td>\n",
       "      <td>3.176020</td>\n",
       "      <td>0.764376</td>\n",
       "      <td>2.841286</td>\n",
       "      <td>1.733993</td>\n",
       "    </tr>\n",
       "    <tr>\n",
       "      <th>SG</th>\n",
       "      <td>15.631151</td>\n",
       "      <td>4.172017</td>\n",
       "      <td>0.784266</td>\n",
       "      <td>3.188490</td>\n",
       "      <td>1.169799</td>\n",
       "      <td>0.363464</td>\n",
       "      <td>5.642661</td>\n",
       "      <td>13.052059</td>\n",
       "      <td>0.431183</td>\n",
       "      <td>1.784055</td>\n",
       "      <td>4.879092</td>\n",
       "      <td>0.353717</td>\n",
       "      <td>3.857339</td>\n",
       "      <td>8.173390</td>\n",
       "      <td>0.470760</td>\n",
       "      <td>2.560084</td>\n",
       "      <td>3.194403</td>\n",
       "      <td>0.793939</td>\n",
       "      <td>2.668110</td>\n",
       "      <td>1.913094</td>\n",
       "    </tr>\n",
       "  </tbody>\n",
       "</table>\n",
       "</div>"
      ],
      "text/plain": [
       "           PTS        TRB       ORB       AST       STL       BLK        FG  \\\n",
       "Pos                                                                           \n",
       "C    14.969737  10.123026  3.121546  2.105592  0.912007  1.553454  5.918750   \n",
       "PF   15.100000   8.214619  2.244103  2.179730  0.997174  0.885258  5.793489   \n",
       "PG   15.098053   3.889691  0.692096  6.211798  1.347194  0.259450  5.495762   \n",
       "SF   14.359580   5.592213  1.212361  2.485167  1.168480  0.575525  5.224722   \n",
       "SG   15.631151   4.172017  0.784266  3.188490  1.169799  0.363464  5.642661   \n",
       "\n",
       "           FGA       FG%        3P       3PA       3P%        2P        2PA  \\\n",
       "Pos                                                                           \n",
       "C    11.546217  0.517039  0.317763  0.943257  0.171497  5.599013  10.600164   \n",
       "PF   12.329484  0.469668  0.951843  2.698034  0.270590  4.840909   9.628010   \n",
       "PG   12.736312  0.429530  1.429439  4.022337  0.337010  4.064032   8.717182   \n",
       "SF   11.826452  0.440284  1.449567  4.053770  0.341014  3.774660   7.772682   \n",
       "SG   13.052059  0.431183  1.784055  4.879092  0.353717  3.857339   8.173390   \n",
       "\n",
       "          2P%        FT       FTA       FT%        PF       TOV  \n",
       "Pos                                                              \n",
       "C    0.531562  2.807401  4.006086  0.700181  3.916776  2.058553  \n",
       "PF   0.501794  2.554545  3.461425  0.735037  3.413882  1.841278  \n",
       "PG   0.462875  2.676518  3.325544  0.796128  2.704238  2.540664  \n",
       "SF   0.485426  2.460445  3.176020  0.764376  2.841286  1.733993  \n",
       "SG   0.470760  2.560084  3.194403  0.793939  2.668110  1.913094  "
      ]
     },
     "execution_count": 10,
     "metadata": {},
     "output_type": "execute_result"
    }
   ],
   "source": [
    "# Groupby \"position\" and calculate average of each column, per position:\n",
    "summary_df = df.groupby('Pos').mean()\n",
    "summary_df.head()"
   ]
  },
  {
   "cell_type": "code",
   "execution_count": 11,
   "metadata": {},
   "outputs": [
    {
     "data": {
      "text/plain": [
       "<matplotlib.axes._subplots.AxesSubplot at 0x21c66bcbfd0>"
      ]
     },
     "execution_count": 11,
     "metadata": {},
     "output_type": "execute_result"
    },
    {
     "data": {
      "image/png": "[encoded data removed]",
      "text/plain": [
       "<Figure size 864x576 with 1 Axes>"
      ]
     },
     "metadata": {
      "needs_background": "light"
     },
     "output_type": "display_data"
    }
   ],
   "source": [
    "# Visualization 1 of 2:\n",
    "bar_chart_df = summary_df[['PTS', 'TRB', 'AST', 'STL', 'BLK']]\n",
    "bar_chart_df.plot(kind='bar', figsize = (12, 8), title='Bar Chart of Main Stats across all 5 Positions')"
   ]
  },
  {
   "cell_type": "code",
   "execution_count": 12,
   "metadata": {},
   "outputs": [
    {
     "data": {
      "text/plain": [
       "<seaborn.axisgrid.PairGrid at 0x21c6c62d630>"
      ]
     },
     "execution_count": 12,
     "metadata": {},
     "output_type": "execute_result"
    },
    {
     "data": {
      "image/png": "[encoded data removed]",
      "text/plain": [
       "<Figure size 770x720 with 30 Axes>"
      ]
     },
     "metadata": {
      "needs_background": "light"
     },
     "output_type": "display_data"
    }
   ],
   "source": [
    "# Visualization 2 of 2:\n",
    "sns_df = df[['PTS', 'TRB', 'AST', 'STL', 'BLK', 'Pos']].head(300)\n",
    "sns_df = sns_df.reset_index()\n",
    "sns_df = sns_df.drop('index', axis=1)\n",
    "\n",
    "sns_plot = sns.pairplot(sns_df, hue='Pos', size=2)\n",
    "sns_plot"
   ]
  },
  {
   "cell_type": "markdown",
   "metadata": {},
   "source": [
    "Here we see scatter plots of all possible x/y-axis combinations. The first thing I notice is the general positive correlation in these graphs - meaning, as the x-axis values increase, so do the y-values. This makes sense to me, as it tells me that the better a player is at one particular category, chances are, they are also good at other statistical categories (good players don't just do one thing well). However, with TRB and AST, it appears the opposite is true: generally speaking, the more assists a player has, or the more rebounds, the less of the other stat they will have.¶\n",
    "The diagonal gives us insight into the distribution of each variable, broken down by position - it helps visualize the ranges in values by position. Looking at the TRB vs. TRB intersection, for example, we see that centers have a longer tail than other positions, while for the AST metric, point guards have a longer tail than other positions - the longer tail indicates a wider distribution, a larger range of values). While most categories have varied distributions, the PTS distribution remains relatively steady across all five positions"
   ]
  },
  {
   "cell_type": "markdown",
   "metadata": {},
   "source": [
    "# Decision Tree (1 of 2):\n",
    "This model will use all features, and will not use PCA transformation on X-data."
   ]
  },
  {
   "cell_type": "code",
   "execution_count": 13,
   "metadata": {},
   "outputs": [
    {
     "name": "stdout",
     "output_type": "stream",
     "text": [
      "X_train: (3038, 20)\n",
      "y_train: (3038, 1)\n",
      "X_test: (1013, 20)\n",
      "y_test: (1013, 1)\n"
     ]
    }
   ],
   "source": [
    "# New clean dataframe:\n",
    "df_decision_tree1 = df.copy()\n",
    "\n",
    "# Set X (features) and y (target):\n",
    "X = df_decision_tree1.drop('Pos', axis=1)\n",
    "y = df_decision_tree1.loc[:, 'Pos']\n",
    "\n",
    "# Manually encode y-labels to make them more meaningful for the confusion matrix during evaluation:\n",
    "position_dictionary = {\n",
    "    \"PG\": 1,\n",
    "    \"SG\": 2,\n",
    "    \"SF\": 3,\n",
    "    \"PF\": 4,\n",
    "    \"C\": 5}\n",
    "\n",
    "y = y.map(position_dictionary).values.reshape(-1,1)\n",
    "\n",
    "# Split X and y into X_train, X_test, y_train, y_test and check shape of each:\n",
    "X_train, X_test, y_train, y_test = train_test_split(X, y, random_state=1, stratify=y)\n",
    "print('X_train:', X_train.shape)\n",
    "print('y_train:', y_train.shape)\n",
    "print('X_test:', X_test.shape)\n",
    "print('y_test:', y_test.shape)"
   ]
  },
  {
   "cell_type": "code",
   "execution_count": 14,
   "metadata": {},
   "outputs": [],
   "source": [
    "# Scale X-data:\n",
    "scaler = StandardScaler()\n",
    "X_scaler = scaler.fit(X_train)\n",
    "\n",
    "X_train_scaled = X_scaler.transform(X_train)\n",
    "X_test_scaled = X_scaler.transform(X_test)"
   ]
  },
  {
   "cell_type": "code",
   "execution_count": 15,
   "metadata": {},
   "outputs": [],
   "source": [
    "# Create, fit and predict Decision Tree Model:\n",
    "dt1_model = tree.DecisionTreeClassifier(random_state=1)\n",
    "dt1_model = dt1_model.fit(X_train_scaled, y_train)\n",
    "predictions = dt1_model.predict(X_test_scaled)"
   ]
  },
  {
   "cell_type": "code",
   "execution_count": 16,
   "metadata": {},
   "outputs": [
    {
     "data": {
      "text/plain": [
       "0.6169792694965449"
      ]
     },
     "execution_count": 16,
     "metadata": {},
     "output_type": "execute_result"
    }
   ],
   "source": [
    "# Print accuracy score:\n",
    "dt1_accuracy_score = accuracy_score(y_test, predictions)\n",
    "dt1_accuracy_score"
   ]
  },
  {
   "cell_type": "code",
   "execution_count": 17,
   "metadata": {},
   "outputs": [
    {
     "data": {
      "image/png": "[encoded data removed]",
      "text/plain": [
       "<Figure size 648x504 with 2 Axes>"
      ]
     },
     "metadata": {
      "needs_background": "light"
     },
     "output_type": "display_data"
    }
   ],
   "source": [
    "# Define Custom Confusion Matrix function that plots Heatmap of Actuals vs. Predictions:\n",
    "\n",
    "def confusion_matrix_heatmap(y_test, predictions):\n",
    "    \"\"\"This plots the confusion matrix\"\"\"\n",
    "    warnings.filterwarnings('ignore')\n",
    "\n",
    "    cm = confusion_matrix(y_test, predictions)\n",
    "\n",
    "    # Plot Heatmap:\n",
    "    f, ax = plt.subplots(figsize=(9, 7))\n",
    "    heat_map = sns.heatmap(cm, annot=True, fmt=\"d\", linewidths=1, ax=ax, cmap=sns.cubehelix_palette(50), xticklabels=position_dictionary.keys(), yticklabels=position_dictionary.keys())\n",
    "\n",
    "    # Set X and Y Labels:\n",
    "    heat_map.set_xlabel(\"# Predicted\")\n",
    "    heat_map.set_ylabel(\"# Actual\")\n",
    "    \n",
    "# Print confusion matrix:\n",
    "cm1 = confusion_matrix_heatmap(y_test, predictions)"
   ]
  },
  {
   "cell_type": "markdown",
   "metadata": {},
   "source": [
    "The confusion matrix is a helpful way to visualize the model's accuracy. We can see in the above, for instance, that out of the 218 point guards included in the Testing Dataset (165+45+5+3+0), the model correctly predicted \"point guard\" 165 times. 45 times it thought the point guard was a shooting guard, 5 times it thought the point guard was a small forward, 3 times it thought the point guard was a power forward, and it never thought the point guard was a center. That distribution makes sense - as the differing responsibilities of the positions increased, the model was less likely to predict that the point guard was that position."
   ]
  },
  {
   "cell_type": "code",
   "execution_count": 18,
   "metadata": {},
   "outputs": [
    {
     "name": "stdout",
     "output_type": "stream",
     "text": [
      "              precision    recall  f1-score   support\n",
      "\n",
      "          PG       0.80      0.76      0.78       218\n",
      "          SG       0.57      0.64      0.60       237\n",
      "          SF       0.51      0.48      0.49       202\n",
      "          PF       0.57      0.58      0.57       204\n",
      "           C       0.67      0.61      0.64       152\n",
      "\n",
      "    accuracy                           0.62      1013\n",
      "   macro avg       0.62      0.61      0.62      1013\n",
      "weighted avg       0.62      0.62      0.62      1013\n",
      "\n"
     ]
    }
   ],
   "source": [
    "# Print classification report:\n",
    "dt1_class_report = classification_report(y_test, predictions, target_names = ['PG', 'SG', 'SF', 'PF', 'C'])\n",
    "print(dt1_class_report)"
   ]
  },
  {
   "cell_type": "code",
   "execution_count": 19,
   "metadata": {},
   "outputs": [
    {
     "data": {
      "text/html": [
       "<div>\n",
       "<style scoped>\n",
       "    .dataframe tbody tr th:only-of-type {\n",
       "        vertical-align: middle;\n",
       "    }\n",
       "\n",
       "    .dataframe tbody tr th {\n",
       "        vertical-align: top;\n",
       "    }\n",
       "\n",
       "    .dataframe thead th {\n",
       "        text-align: right;\n",
       "    }\n",
       "</style>\n",
       "<table border=\"1\" class=\"dataframe\">\n",
       "  <thead>\n",
       "    <tr style=\"text-align: right;\">\n",
       "      <th></th>\n",
       "      <th>Importance</th>\n",
       "    </tr>\n",
       "  </thead>\n",
       "  <tbody>\n",
       "    <tr>\n",
       "      <th>TRB</th>\n",
       "      <td>0.260346</td>\n",
       "    </tr>\n",
       "    <tr>\n",
       "      <th>AST</th>\n",
       "      <td>0.199898</td>\n",
       "    </tr>\n",
       "    <tr>\n",
       "      <th>BLK</th>\n",
       "      <td>0.069038</td>\n",
       "    </tr>\n",
       "    <tr>\n",
       "      <th>PF</th>\n",
       "      <td>0.051697</td>\n",
       "    </tr>\n",
       "    <tr>\n",
       "      <th>STL</th>\n",
       "      <td>0.037717</td>\n",
       "    </tr>\n",
       "    <tr>\n",
       "      <th>3PA</th>\n",
       "      <td>0.034033</td>\n",
       "    </tr>\n",
       "    <tr>\n",
       "      <th>FT%</th>\n",
       "      <td>0.033457</td>\n",
       "    </tr>\n",
       "    <tr>\n",
       "      <th>ORB</th>\n",
       "      <td>0.032945</td>\n",
       "    </tr>\n",
       "    <tr>\n",
       "      <th>2PA</th>\n",
       "      <td>0.030856</td>\n",
       "    </tr>\n",
       "    <tr>\n",
       "      <th>PTS</th>\n",
       "      <td>0.029383</td>\n",
       "    </tr>\n",
       "    <tr>\n",
       "      <th>FG%</th>\n",
       "      <td>0.029234</td>\n",
       "    </tr>\n",
       "    <tr>\n",
       "      <th>2P%</th>\n",
       "      <td>0.028464</td>\n",
       "    </tr>\n",
       "    <tr>\n",
       "      <th>FTA</th>\n",
       "      <td>0.027670</td>\n",
       "    </tr>\n",
       "    <tr>\n",
       "      <th>TOV</th>\n",
       "      <td>0.026106</td>\n",
       "    </tr>\n",
       "    <tr>\n",
       "      <th>2P</th>\n",
       "      <td>0.020927</td>\n",
       "    </tr>\n",
       "    <tr>\n",
       "      <th>FT</th>\n",
       "      <td>0.020496</td>\n",
       "    </tr>\n",
       "    <tr>\n",
       "      <th>3P</th>\n",
       "      <td>0.018913</td>\n",
       "    </tr>\n",
       "    <tr>\n",
       "      <th>FGA</th>\n",
       "      <td>0.018816</td>\n",
       "    </tr>\n",
       "    <tr>\n",
       "      <th>3P%</th>\n",
       "      <td>0.015659</td>\n",
       "    </tr>\n",
       "    <tr>\n",
       "      <th>FG</th>\n",
       "      <td>0.014344</td>\n",
       "    </tr>\n",
       "  </tbody>\n",
       "</table>\n",
       "</div>"
      ],
      "text/plain": [
       "     Importance\n",
       "TRB    0.260346\n",
       "AST    0.199898\n",
       "BLK    0.069038\n",
       "PF     0.051697\n",
       "STL    0.037717\n",
       "3PA    0.034033\n",
       "FT%    0.033457\n",
       "ORB    0.032945\n",
       "2PA    0.030856\n",
       "PTS    0.029383\n",
       "FG%    0.029234\n",
       "2P%    0.028464\n",
       "FTA    0.027670\n",
       "TOV    0.026106\n",
       "2P     0.020927\n",
       "FT     0.020496\n",
       "3P     0.018913\n",
       "FGA    0.018816\n",
       "3P%    0.015659\n",
       "FG     0.014344"
      ]
     },
     "execution_count": 19,
     "metadata": {},
     "output_type": "execute_result"
    }
   ],
   "source": [
    "# List features ordered by feature importance:\n",
    "dt1_importances = pd.DataFrame(dt1_model.feature_importances_, index = X_train.columns, columns=['Importance']).sort_values('Importance', ascending=False)\n",
    "dt1_importances"
   ]
  },
  {
   "cell_type": "markdown",
   "metadata": {},
   "source": [
    "# Decision Tree (3 of 3):\n",
    "This model will use the top 5 features, identified by Decision Tree 1's \"Feature Importance\" table, and based on the previous results, will not incorporate PCA transformation."
   ]
  },
  {
   "cell_type": "code",
   "execution_count": 20,
   "metadata": {},
   "outputs": [
    {
     "data": {
      "text/html": [
       "<div>\n",
       "<style scoped>\n",
       "    .dataframe tbody tr th:only-of-type {\n",
       "        vertical-align: middle;\n",
       "    }\n",
       "\n",
       "    .dataframe tbody tr th {\n",
       "        vertical-align: top;\n",
       "    }\n",
       "\n",
       "    .dataframe thead th {\n",
       "        text-align: right;\n",
       "    }\n",
       "</style>\n",
       "<table border=\"1\" class=\"dataframe\">\n",
       "  <thead>\n",
       "    <tr style=\"text-align: right;\">\n",
       "      <th></th>\n",
       "      <th>Importance</th>\n",
       "    </tr>\n",
       "  </thead>\n",
       "  <tbody>\n",
       "    <tr>\n",
       "      <th>TRB</th>\n",
       "      <td>0.260346</td>\n",
       "    </tr>\n",
       "    <tr>\n",
       "      <th>AST</th>\n",
       "      <td>0.199898</td>\n",
       "    </tr>\n",
       "    <tr>\n",
       "      <th>BLK</th>\n",
       "      <td>0.069038</td>\n",
       "    </tr>\n",
       "    <tr>\n",
       "      <th>PF</th>\n",
       "      <td>0.051697</td>\n",
       "    </tr>\n",
       "    <tr>\n",
       "      <th>STL</th>\n",
       "      <td>0.037717</td>\n",
       "    </tr>\n",
       "  </tbody>\n",
       "</table>\n",
       "</div>"
      ],
      "text/plain": [
       "     Importance\n",
       "TRB    0.260346\n",
       "AST    0.199898\n",
       "BLK    0.069038\n",
       "PF     0.051697\n",
       "STL    0.037717"
      ]
     },
     "execution_count": 20,
     "metadata": {},
     "output_type": "execute_result"
    }
   ],
   "source": [
    "# First, remind ourselves what the first Decision Tree identified as the top 5 features:\n",
    "dt1_importances.head()"
   ]
  },
  {
   "cell_type": "code",
   "execution_count": 21,
   "metadata": {},
   "outputs": [
    {
     "data": {
      "text/html": [
       "<div>\n",
       "<style scoped>\n",
       "    .dataframe tbody tr th:only-of-type {\n",
       "        vertical-align: middle;\n",
       "    }\n",
       "\n",
       "    .dataframe tbody tr th {\n",
       "        vertical-align: top;\n",
       "    }\n",
       "\n",
       "    .dataframe thead th {\n",
       "        text-align: right;\n",
       "    }\n",
       "</style>\n",
       "<table border=\"1\" class=\"dataframe\">\n",
       "  <thead>\n",
       "    <tr style=\"text-align: right;\">\n",
       "      <th></th>\n",
       "      <th>TRB</th>\n",
       "      <th>AST</th>\n",
       "      <th>BLK</th>\n",
       "      <th>PF</th>\n",
       "      <th>STL</th>\n",
       "      <th>Pos</th>\n",
       "    </tr>\n",
       "  </thead>\n",
       "  <tbody>\n",
       "    <tr>\n",
       "      <th>0</th>\n",
       "      <td>6.6</td>\n",
       "      <td>2.7</td>\n",
       "      <td>0.8</td>\n",
       "      <td>4.2</td>\n",
       "      <td>0.9</td>\n",
       "      <td>PF</td>\n",
       "    </tr>\n",
       "    <tr>\n",
       "      <th>3</th>\n",
       "      <td>4.0</td>\n",
       "      <td>3.4</td>\n",
       "      <td>0.2</td>\n",
       "      <td>1.8</td>\n",
       "      <td>1.3</td>\n",
       "      <td>SG</td>\n",
       "    </tr>\n",
       "    <tr>\n",
       "      <th>4</th>\n",
       "      <td>4.1</td>\n",
       "      <td>2.5</td>\n",
       "      <td>0.7</td>\n",
       "      <td>4.6</td>\n",
       "      <td>1.9</td>\n",
       "      <td>PG</td>\n",
       "    </tr>\n",
       "    <tr>\n",
       "      <th>5</th>\n",
       "      <td>3.8</td>\n",
       "      <td>6.3</td>\n",
       "      <td>0.2</td>\n",
       "      <td>2.9</td>\n",
       "      <td>1.5</td>\n",
       "      <td>PG</td>\n",
       "    </tr>\n",
       "    <tr>\n",
       "      <th>8</th>\n",
       "      <td>4.9</td>\n",
       "      <td>3.5</td>\n",
       "      <td>0.2</td>\n",
       "      <td>3.4</td>\n",
       "      <td>0.8</td>\n",
       "      <td>SG</td>\n",
       "    </tr>\n",
       "  </tbody>\n",
       "</table>\n",
       "</div>"
      ],
      "text/plain": [
       "   TRB  AST  BLK   PF  STL Pos\n",
       "0  6.6  2.7  0.8  4.2  0.9  PF\n",
       "3  4.0  3.4  0.2  1.8  1.3  SG\n",
       "4  4.1  2.5  0.7  4.6  1.9  PG\n",
       "5  3.8  6.3  0.2  2.9  1.5  PG\n",
       "8  4.9  3.5  0.2  3.4  0.8  SG"
      ]
     },
     "execution_count": 21,
     "metadata": {},
     "output_type": "execute_result"
    }
   ],
   "source": [
    "# New clean dataframe:\n",
    "df_decision_tree3 = df.copy()\n",
    "df_decision_tree3 = df_decision_tree3[['TRB', 'AST', 'BLK', 'PF', 'STL', 'Pos']]\n",
    "df_decision_tree3.head()"
   ]
  },
  {
   "cell_type": "code",
   "execution_count": 22,
   "metadata": {},
   "outputs": [],
   "source": [
    "# Set X (features) and y (target):\n",
    "X = df_decision_tree3.drop('Pos', axis=1)\n",
    "y = df_decision_tree3.loc[:, 'Pos']"
   ]
  },
  {
   "cell_type": "code",
   "execution_count": 23,
   "metadata": {},
   "outputs": [
    {
     "data": {
      "text/plain": [
       "SG    947\n",
       "PG    873\n",
       "PF    814\n",
       "SF    809\n",
       "C     608\n",
       "Name: Pos, dtype: int64"
      ]
     },
     "execution_count": 23,
     "metadata": {},
     "output_type": "execute_result"
    }
   ],
   "source": [
    "# Check how many of each position in y-dataset:\n",
    "y.value_counts()"
   ]
  },
  {
   "cell_type": "code",
   "execution_count": 24,
   "metadata": {},
   "outputs": [],
   "source": [
    "# Apply position_dictionary established in Decision Tree 1 to this model:\n",
    "y = y.map(position_dictionary).values.reshape(-1,1)"
   ]
  },
  {
   "cell_type": "code",
   "execution_count": 25,
   "metadata": {},
   "outputs": [
    {
     "name": "stdout",
     "output_type": "stream",
     "text": [
      "X_train: (3038, 5)\n",
      "y_train: (3038, 1)\n",
      "X_test: (1013, 5)\n",
      "y_test: (1013, 1)\n"
     ]
    }
   ],
   "source": [
    "# Split X and y into X_train, X_test, y_train, y_test and check shape of each:\n",
    "X_train, X_test, y_train, y_test = train_test_split(X, y, random_state=1, stratify=y)\n",
    "print('X_train:', X_train.shape)\n",
    "print('y_train:', y_train.shape)\n",
    "print('X_test:', X_test.shape)\n",
    "print('y_test:', y_test.shape)"
   ]
  },
  {
   "cell_type": "code",
   "execution_count": 26,
   "metadata": {},
   "outputs": [],
   "source": [
    "# Scale X-data:\n",
    "scaler = StandardScaler()\n",
    "X_scaler = scaler.fit(X_train)\n",
    "\n",
    "X_train_scaled = X_scaler.transform(X_train)\n",
    "X_test_scaled = X_scaler.transform(X_test)"
   ]
  },
  {
   "cell_type": "code",
   "execution_count": 27,
   "metadata": {},
   "outputs": [],
   "source": [
    "# Create, fit, and predict Decision Tree Model:\n",
    "dt3_model = tree.DecisionTreeClassifier(random_state=1)\n",
    "dt3_model = dt3_model.fit(X_train_scaled, y_train)\n",
    "predictions = dt3_model.predict(X_test_scaled)"
   ]
  },
  {
   "cell_type": "code",
   "execution_count": 28,
   "metadata": {},
   "outputs": [
    {
     "data": {
      "text/plain": [
       "0.596248766041461"
      ]
     },
     "execution_count": 28,
     "metadata": {},
     "output_type": "execute_result"
    }
   ],
   "source": [
    "# Print accuracy score:\n",
    "dt3_accuracy_score = accuracy_score(y_test, predictions)\n",
    "dt3_accuracy_score"
   ]
  },
  {
   "cell_type": "code",
   "execution_count": 29,
   "metadata": {},
   "outputs": [
    {
     "data": {
      "image/png": "[encoded data removed]",
      "text/plain": [
       "<Figure size 648x504 with 2 Axes>"
      ]
     },
     "metadata": {
      "needs_background": "light"
     },
     "output_type": "display_data"
    }
   ],
   "source": [
    "# Print confusion matrix using pre-defined function:\n",
    "cm3 = confusion_matrix_heatmap(y_test, predictions)"
   ]
  },
  {
   "cell_type": "code",
   "execution_count": 30,
   "metadata": {},
   "outputs": [
    {
     "name": "stdout",
     "output_type": "stream",
     "text": [
      "              precision    recall  f1-score   support\n",
      "\n",
      "          PG       0.80      0.78      0.79       218\n",
      "          SG       0.54      0.62      0.58       237\n",
      "          SF       0.51      0.46      0.48       202\n",
      "          PF       0.55      0.49      0.51       204\n",
      "           C       0.57      0.64      0.60       152\n",
      "\n",
      "    accuracy                           0.60      1013\n",
      "   macro avg       0.59      0.59      0.59      1013\n",
      "weighted avg       0.60      0.60      0.59      1013\n",
      "\n"
     ]
    }
   ],
   "source": [
    "# Print classification report:\n",
    "dt3_class_report = classification_report(y_test, predictions, target_names = ['PG', 'SG', 'SF', 'PF', 'C'])\n",
    "print(dt3_class_report)"
   ]
  },
  {
   "cell_type": "markdown",
   "metadata": {},
   "source": [
    "Comparing the results of Decision Tree 2 to those of Decision Tree 1; did reducing features to the top 5 improve the model?"
   ]
  },
  {
   "cell_type": "code",
   "execution_count": 31,
   "metadata": {},
   "outputs": [
    {
     "name": "stdout",
     "output_type": "stream",
     "text": [
      "Decision Tree 1 Accuracy Score (all 20 features): 0.6169792694965449. \n",
      "Decision Tree 3 Accuracy Score (top 5 features): 0.596248766041461.\n"
     ]
    }
   ],
   "source": [
    "print(f'Decision Tree 1 Accuracy Score (all 20 features): {dt1_accuracy_score}. \\nDecision Tree 3 Accuracy Score (top 5 features): {dt3_accuracy_score}.')"
   ]
  },
  {
   "cell_type": "code",
   "execution_count": 32,
   "metadata": {},
   "outputs": [
    {
     "name": "stdout",
     "output_type": "stream",
     "text": [
      "DT1 Class. Report (all 20 features):               precision    recall  f1-score   support\n",
      "\n",
      "          PG       0.80      0.76      0.78       218\n",
      "          SG       0.57      0.64      0.60       237\n",
      "          SF       0.51      0.48      0.49       202\n",
      "          PF       0.57      0.58      0.57       204\n",
      "           C       0.67      0.61      0.64       152\n",
      "\n",
      "    accuracy                           0.62      1013\n",
      "   macro avg       0.62      0.61      0.62      1013\n",
      "weighted avg       0.62      0.62      0.62      1013\n",
      ". \n",
      "DT3 Class. Report (top 5 features):               precision    recall  f1-score   support\n",
      "\n",
      "          PG       0.80      0.78      0.79       218\n",
      "          SG       0.54      0.62      0.58       237\n",
      "          SF       0.51      0.46      0.48       202\n",
      "          PF       0.55      0.49      0.51       204\n",
      "           C       0.57      0.64      0.60       152\n",
      "\n",
      "    accuracy                           0.60      1013\n",
      "   macro avg       0.59      0.59      0.59      1013\n",
      "weighted avg       0.60      0.60      0.59      1013\n",
      ".\n"
     ]
    }
   ],
   "source": [
    "print(f'DT1 Class. Report (all 20 features): {dt1_class_report}. \\nDT3 Class. Report (top 5 features): {dt3_class_report}.')"
   ]
  },
  {
   "cell_type": "raw",
   "metadata": {},
   "source": [
    "Based on the above results, it appears that the model that uses all 20 features is slightly better than the one that uses only the top 5:\n",
    "\n",
    "61.7% accuracy vs. 59.6% accuracy.\n",
    "62% precision vs. 59% precision.\n",
    "61% recall vs. 59% recall.\n",
    "62% F1 score vs. 59% F1 score."
   ]
  },
  {
   "cell_type": "markdown",
   "metadata": {},
   "source": [
    "\n",
    "# Random Forest (1 of 2):"
   ]
  },
  {
   "cell_type": "code",
   "execution_count": 33,
   "metadata": {},
   "outputs": [
    {
     "data": {
      "text/html": [
       "<div>\n",
       "<style scoped>\n",
       "    .dataframe tbody tr th:only-of-type {\n",
       "        vertical-align: middle;\n",
       "    }\n",
       "\n",
       "    .dataframe tbody tr th {\n",
       "        vertical-align: top;\n",
       "    }\n",
       "\n",
       "    .dataframe thead th {\n",
       "        text-align: right;\n",
       "    }\n",
       "</style>\n",
       "<table border=\"1\" class=\"dataframe\">\n",
       "  <thead>\n",
       "    <tr style=\"text-align: right;\">\n",
       "      <th></th>\n",
       "      <th>PTS</th>\n",
       "      <th>TRB</th>\n",
       "      <th>ORB</th>\n",
       "      <th>AST</th>\n",
       "      <th>STL</th>\n",
       "      <th>BLK</th>\n",
       "      <th>FG</th>\n",
       "      <th>FGA</th>\n",
       "      <th>FG%</th>\n",
       "      <th>3P</th>\n",
       "      <th>3PA</th>\n",
       "      <th>3P%</th>\n",
       "      <th>2P</th>\n",
       "      <th>2PA</th>\n",
       "      <th>2P%</th>\n",
       "      <th>FT</th>\n",
       "      <th>FTA</th>\n",
       "      <th>FT%</th>\n",
       "      <th>PF</th>\n",
       "      <th>TOV</th>\n",
       "      <th>Pos</th>\n",
       "    </tr>\n",
       "  </thead>\n",
       "  <tbody>\n",
       "    <tr>\n",
       "      <th>0</th>\n",
       "      <td>16.3</td>\n",
       "      <td>6.6</td>\n",
       "      <td>1.9</td>\n",
       "      <td>2.7</td>\n",
       "      <td>0.9</td>\n",
       "      <td>0.8</td>\n",
       "      <td>6.1</td>\n",
       "      <td>11.6</td>\n",
       "      <td>0.52</td>\n",
       "      <td>0.1</td>\n",
       "      <td>0.4</td>\n",
       "      <td>0.23</td>\n",
       "      <td>6.0</td>\n",
       "      <td>11.2</td>\n",
       "      <td>0.54</td>\n",
       "      <td>4.0</td>\n",
       "      <td>5.1</td>\n",
       "      <td>0.78</td>\n",
       "      <td>4.2</td>\n",
       "      <td>2.0</td>\n",
       "      <td>PF</td>\n",
       "    </tr>\n",
       "    <tr>\n",
       "      <th>3</th>\n",
       "      <td>23.3</td>\n",
       "      <td>4.0</td>\n",
       "      <td>0.8</td>\n",
       "      <td>3.4</td>\n",
       "      <td>1.3</td>\n",
       "      <td>0.2</td>\n",
       "      <td>8.1</td>\n",
       "      <td>17.9</td>\n",
       "      <td>0.45</td>\n",
       "      <td>3.2</td>\n",
       "      <td>7.8</td>\n",
       "      <td>0.41</td>\n",
       "      <td>4.9</td>\n",
       "      <td>10.1</td>\n",
       "      <td>0.49</td>\n",
       "      <td>3.9</td>\n",
       "      <td>4.3</td>\n",
       "      <td>0.90</td>\n",
       "      <td>1.8</td>\n",
       "      <td>2.2</td>\n",
       "      <td>SG</td>\n",
       "    </tr>\n",
       "    <tr>\n",
       "      <th>4</th>\n",
       "      <td>13.6</td>\n",
       "      <td>4.1</td>\n",
       "      <td>1.2</td>\n",
       "      <td>2.5</td>\n",
       "      <td>1.9</td>\n",
       "      <td>0.7</td>\n",
       "      <td>4.7</td>\n",
       "      <td>10.1</td>\n",
       "      <td>0.47</td>\n",
       "      <td>0.4</td>\n",
       "      <td>1.3</td>\n",
       "      <td>0.32</td>\n",
       "      <td>4.3</td>\n",
       "      <td>8.8</td>\n",
       "      <td>0.49</td>\n",
       "      <td>3.7</td>\n",
       "      <td>4.9</td>\n",
       "      <td>0.75</td>\n",
       "      <td>4.6</td>\n",
       "      <td>2.5</td>\n",
       "      <td>PG</td>\n",
       "    </tr>\n",
       "    <tr>\n",
       "      <th>5</th>\n",
       "      <td>11.3</td>\n",
       "      <td>3.8</td>\n",
       "      <td>0.5</td>\n",
       "      <td>6.3</td>\n",
       "      <td>1.5</td>\n",
       "      <td>0.2</td>\n",
       "      <td>4.1</td>\n",
       "      <td>10.9</td>\n",
       "      <td>0.38</td>\n",
       "      <td>1.5</td>\n",
       "      <td>4.6</td>\n",
       "      <td>0.33</td>\n",
       "      <td>2.6</td>\n",
       "      <td>6.3</td>\n",
       "      <td>0.42</td>\n",
       "      <td>1.5</td>\n",
       "      <td>2.1</td>\n",
       "      <td>0.69</td>\n",
       "      <td>2.9</td>\n",
       "      <td>2.3</td>\n",
       "      <td>PG</td>\n",
       "    </tr>\n",
       "    <tr>\n",
       "      <th>8</th>\n",
       "      <td>12.0</td>\n",
       "      <td>4.9</td>\n",
       "      <td>0.7</td>\n",
       "      <td>3.5</td>\n",
       "      <td>0.8</td>\n",
       "      <td>0.2</td>\n",
       "      <td>3.7</td>\n",
       "      <td>10.4</td>\n",
       "      <td>0.36</td>\n",
       "      <td>1.4</td>\n",
       "      <td>4.6</td>\n",
       "      <td>0.30</td>\n",
       "      <td>2.3</td>\n",
       "      <td>5.8</td>\n",
       "      <td>0.40</td>\n",
       "      <td>3.2</td>\n",
       "      <td>3.8</td>\n",
       "      <td>0.84</td>\n",
       "      <td>3.4</td>\n",
       "      <td>1.9</td>\n",
       "      <td>SG</td>\n",
       "    </tr>\n",
       "  </tbody>\n",
       "</table>\n",
       "</div>"
      ],
      "text/plain": [
       "    PTS  TRB  ORB  AST  STL  BLK   FG   FGA   FG%   3P  3PA   3P%   2P   2PA  \\\n",
       "0  16.3  6.6  1.9  2.7  0.9  0.8  6.1  11.6  0.52  0.1  0.4  0.23  6.0  11.2   \n",
       "3  23.3  4.0  0.8  3.4  1.3  0.2  8.1  17.9  0.45  3.2  7.8  0.41  4.9  10.1   \n",
       "4  13.6  4.1  1.2  2.5  1.9  0.7  4.7  10.1  0.47  0.4  1.3  0.32  4.3   8.8   \n",
       "5  11.3  3.8  0.5  6.3  1.5  0.2  4.1  10.9  0.38  1.5  4.6  0.33  2.6   6.3   \n",
       "8  12.0  4.9  0.7  3.5  0.8  0.2  3.7  10.4  0.36  1.4  4.6  0.30  2.3   5.8   \n",
       "\n",
       "    2P%   FT  FTA   FT%   PF  TOV Pos  \n",
       "0  0.54  4.0  5.1  0.78  4.2  2.0  PF  \n",
       "3  0.49  3.9  4.3  0.90  1.8  2.2  SG  \n",
       "4  0.49  3.7  4.9  0.75  4.6  2.5  PG  \n",
       "5  0.42  1.5  2.1  0.69  2.9  2.3  PG  \n",
       "8  0.40  3.2  3.8  0.84  3.4  1.9  SG  "
      ]
     },
     "execution_count": 33,
     "metadata": {},
     "output_type": "execute_result"
    }
   ],
   "source": [
    "# New clean dataframe:\n",
    "df1_randomforest = df_decision_tree1.copy()\n",
    "df1_randomforest.head()"
   ]
  },
  {
   "cell_type": "code",
   "execution_count": 34,
   "metadata": {},
   "outputs": [],
   "source": [
    "# Set X (features) and y (target):\n",
    "X = df1_randomforest.drop('Pos', axis=1)\n",
    "y = df1_randomforest.loc[:, 'Pos']"
   ]
  },
  {
   "cell_type": "code",
   "execution_count": 35,
   "metadata": {},
   "outputs": [
    {
     "data": {
      "text/plain": [
       "SG    947\n",
       "PG    873\n",
       "PF    814\n",
       "SF    809\n",
       "C     608\n",
       "Name: Pos, dtype: int64"
      ]
     },
     "execution_count": 35,
     "metadata": {},
     "output_type": "execute_result"
    }
   ],
   "source": [
    "# Check how many of each position in y-dataset:\n",
    "y.value_counts()"
   ]
  },
  {
   "cell_type": "code",
   "execution_count": 36,
   "metadata": {},
   "outputs": [],
   "source": [
    "# Apply position_dictionary established in Decision Tree 1 to this model:\n",
    "y = y.map(position_dictionary).values.reshape(-1,1)"
   ]
  },
  {
   "cell_type": "code",
   "execution_count": 37,
   "metadata": {},
   "outputs": [
    {
     "name": "stdout",
     "output_type": "stream",
     "text": [
      "X_train: (3038, 20)\n",
      "y_train: (3038, 1)\n",
      "X_test: (1013, 20)\n",
      "y_test: (1013, 1)\n"
     ]
    }
   ],
   "source": [
    "# Split the X and y into X_train, X_test, y_train, y_test and check shape of each:\n",
    "X_train, X_test, y_train, y_test = train_test_split(X, y, random_state=1, stratify=y)\n",
    "print('X_train:', X_train.shape)\n",
    "print('y_train:', y_train.shape)\n",
    "print('X_test:', X_test.shape)\n",
    "print('y_test:', y_test.shape)"
   ]
  },
  {
   "cell_type": "code",
   "execution_count": 38,
   "metadata": {},
   "outputs": [],
   "source": [
    "# Scale X-data:\n",
    "scaler = StandardScaler()\n",
    "X_scaler = scaler.fit(X_train)\n",
    "\n",
    "X_train_scaled = X_scaler.transform(X_train)\n",
    "X_test_scaled = X_scaler.transform(X_test)"
   ]
  },
  {
   "cell_type": "code",
   "execution_count": 39,
   "metadata": {},
   "outputs": [],
   "source": [
    "# Create, fit, and predict Random Forest Model:\n",
    "rf1_model = RandomForestClassifier(n_estimators=500, random_state=1)\n",
    "rf1_model = rf1_model.fit(X_train_scaled, y_train)\n",
    "predictions = rf1_model.predict(X_test_scaled)"
   ]
  },
  {
   "cell_type": "code",
   "execution_count": 40,
   "metadata": {},
   "outputs": [
    {
     "data": {
      "text/plain": [
       "0.7137216189536032"
      ]
     },
     "execution_count": 40,
     "metadata": {},
     "output_type": "execute_result"
    }
   ],
   "source": [
    "rf1_accuracy_score = accuracy_score(y_test, predictions)\n",
    "rf1_accuracy_score"
   ]
  },
  {
   "cell_type": "code",
   "execution_count": 41,
   "metadata": {},
   "outputs": [
    {
     "data": {
      "image/png": "[encoded data removed]",
      "text/plain": [
       "<Figure size 648x504 with 2 Axes>"
      ]
     },
     "metadata": {
      "needs_background": "light"
     },
     "output_type": "display_data"
    }
   ],
   "source": [
    "# Print confusion matrix using pre-defined function:\n",
    "cm4 = confusion_matrix_heatmap(y_test, predictions)"
   ]
  },
  {
   "cell_type": "code",
   "execution_count": 42,
   "metadata": {},
   "outputs": [
    {
     "name": "stdout",
     "output_type": "stream",
     "text": [
      "              precision    recall  f1-score   support\n",
      "\n",
      "          PG       0.85      0.83      0.84       218\n",
      "          SG       0.67      0.70      0.69       237\n",
      "          SF       0.64      0.64      0.64       202\n",
      "          PF       0.66      0.65      0.65       204\n",
      "           C       0.77      0.75      0.76       152\n",
      "\n",
      "    accuracy                           0.71      1013\n",
      "   macro avg       0.72      0.71      0.72      1013\n",
      "weighted avg       0.72      0.71      0.71      1013\n",
      "\n"
     ]
    }
   ],
   "source": [
    "# Print classification report:\n",
    "rf1_class_report = classification_report(y_test, predictions, target_names = ['PG', 'SG', 'SF', 'PF', 'C'])\n",
    "print(rf1_class_report)"
   ]
  },
  {
   "cell_type": "code",
   "execution_count": 43,
   "metadata": {},
   "outputs": [
    {
     "data": {
      "text/html": [
       "<div>\n",
       "<style scoped>\n",
       "    .dataframe tbody tr th:only-of-type {\n",
       "        vertical-align: middle;\n",
       "    }\n",
       "\n",
       "    .dataframe tbody tr th {\n",
       "        vertical-align: top;\n",
       "    }\n",
       "\n",
       "    .dataframe thead th {\n",
       "        text-align: right;\n",
       "    }\n",
       "</style>\n",
       "<table border=\"1\" class=\"dataframe\">\n",
       "  <thead>\n",
       "    <tr style=\"text-align: right;\">\n",
       "      <th></th>\n",
       "      <th>Importance</th>\n",
       "    </tr>\n",
       "  </thead>\n",
       "  <tbody>\n",
       "    <tr>\n",
       "      <th>AST</th>\n",
       "      <td>0.152679</td>\n",
       "    </tr>\n",
       "    <tr>\n",
       "      <th>TRB</th>\n",
       "      <td>0.149042</td>\n",
       "    </tr>\n",
       "    <tr>\n",
       "      <th>ORB</th>\n",
       "      <td>0.077137</td>\n",
       "    </tr>\n",
       "    <tr>\n",
       "      <th>BLK</th>\n",
       "      <td>0.071948</td>\n",
       "    </tr>\n",
       "    <tr>\n",
       "      <th>3PA</th>\n",
       "      <td>0.048532</td>\n",
       "    </tr>\n",
       "    <tr>\n",
       "      <th>TOV</th>\n",
       "      <td>0.046414</td>\n",
       "    </tr>\n",
       "    <tr>\n",
       "      <th>STL</th>\n",
       "      <td>0.041687</td>\n",
       "    </tr>\n",
       "    <tr>\n",
       "      <th>PF</th>\n",
       "      <td>0.040585</td>\n",
       "    </tr>\n",
       "    <tr>\n",
       "      <th>3P</th>\n",
       "      <td>0.037277</td>\n",
       "    </tr>\n",
       "    <tr>\n",
       "      <th>FG%</th>\n",
       "      <td>0.032416</td>\n",
       "    </tr>\n",
       "    <tr>\n",
       "      <th>FGA</th>\n",
       "      <td>0.031851</td>\n",
       "    </tr>\n",
       "    <tr>\n",
       "      <th>2P%</th>\n",
       "      <td>0.031737</td>\n",
       "    </tr>\n",
       "    <tr>\n",
       "      <th>FT%</th>\n",
       "      <td>0.031195</td>\n",
       "    </tr>\n",
       "    <tr>\n",
       "      <th>2PA</th>\n",
       "      <td>0.031172</td>\n",
       "    </tr>\n",
       "    <tr>\n",
       "      <th>PTS</th>\n",
       "      <td>0.030821</td>\n",
       "    </tr>\n",
       "    <tr>\n",
       "      <th>FTA</th>\n",
       "      <td>0.030241</td>\n",
       "    </tr>\n",
       "    <tr>\n",
       "      <th>3P%</th>\n",
       "      <td>0.029518</td>\n",
       "    </tr>\n",
       "    <tr>\n",
       "      <th>2P</th>\n",
       "      <td>0.029380</td>\n",
       "    </tr>\n",
       "    <tr>\n",
       "      <th>FT</th>\n",
       "      <td>0.028558</td>\n",
       "    </tr>\n",
       "    <tr>\n",
       "      <th>FG</th>\n",
       "      <td>0.027812</td>\n",
       "    </tr>\n",
       "  </tbody>\n",
       "</table>\n",
       "</div>"
      ],
      "text/plain": [
       "     Importance\n",
       "AST    0.152679\n",
       "TRB    0.149042\n",
       "ORB    0.077137\n",
       "BLK    0.071948\n",
       "3PA    0.048532\n",
       "TOV    0.046414\n",
       "STL    0.041687\n",
       "PF     0.040585\n",
       "3P     0.037277\n",
       "FG%    0.032416\n",
       "FGA    0.031851\n",
       "2P%    0.031737\n",
       "FT%    0.031195\n",
       "2PA    0.031172\n",
       "PTS    0.030821\n",
       "FTA    0.030241\n",
       "3P%    0.029518\n",
       "2P     0.029380\n",
       "FT     0.028558\n",
       "FG     0.027812"
      ]
     },
     "execution_count": 43,
     "metadata": {},
     "output_type": "execute_result"
    }
   ],
   "source": [
    "# List features ordered by feature importance:\n",
    "rf1_importances = pd.DataFrame(rf1_model.feature_importances_, index = X_train.columns, columns=['Importance']).sort_values('Importance', ascending=False)\n",
    "rf1_importances"
   ]
  },
  {
   "cell_type": "markdown",
   "metadata": {},
   "source": [
    "# Random Forest (2 of 2):"
   ]
  },
  {
   "cell_type": "code",
   "execution_count": 44,
   "metadata": {},
   "outputs": [
    {
     "data": {
      "text/html": [
       "<div>\n",
       "<style scoped>\n",
       "    .dataframe tbody tr th:only-of-type {\n",
       "        vertical-align: middle;\n",
       "    }\n",
       "\n",
       "    .dataframe tbody tr th {\n",
       "        vertical-align: top;\n",
       "    }\n",
       "\n",
       "    .dataframe thead th {\n",
       "        text-align: right;\n",
       "    }\n",
       "</style>\n",
       "<table border=\"1\" class=\"dataframe\">\n",
       "  <thead>\n",
       "    <tr style=\"text-align: right;\">\n",
       "      <th></th>\n",
       "      <th>AST</th>\n",
       "      <th>TRB</th>\n",
       "      <th>ORB</th>\n",
       "      <th>BLK</th>\n",
       "      <th>3PA</th>\n",
       "      <th>Pos</th>\n",
       "    </tr>\n",
       "  </thead>\n",
       "  <tbody>\n",
       "    <tr>\n",
       "      <th>0</th>\n",
       "      <td>2.7</td>\n",
       "      <td>6.6</td>\n",
       "      <td>1.9</td>\n",
       "      <td>0.8</td>\n",
       "      <td>0.4</td>\n",
       "      <td>PF</td>\n",
       "    </tr>\n",
       "    <tr>\n",
       "      <th>3</th>\n",
       "      <td>3.4</td>\n",
       "      <td>4.0</td>\n",
       "      <td>0.8</td>\n",
       "      <td>0.2</td>\n",
       "      <td>7.8</td>\n",
       "      <td>SG</td>\n",
       "    </tr>\n",
       "    <tr>\n",
       "      <th>4</th>\n",
       "      <td>2.5</td>\n",
       "      <td>4.1</td>\n",
       "      <td>1.2</td>\n",
       "      <td>0.7</td>\n",
       "      <td>1.3</td>\n",
       "      <td>PG</td>\n",
       "    </tr>\n",
       "    <tr>\n",
       "      <th>5</th>\n",
       "      <td>6.3</td>\n",
       "      <td>3.8</td>\n",
       "      <td>0.5</td>\n",
       "      <td>0.2</td>\n",
       "      <td>4.6</td>\n",
       "      <td>PG</td>\n",
       "    </tr>\n",
       "    <tr>\n",
       "      <th>8</th>\n",
       "      <td>3.5</td>\n",
       "      <td>4.9</td>\n",
       "      <td>0.7</td>\n",
       "      <td>0.2</td>\n",
       "      <td>4.6</td>\n",
       "      <td>SG</td>\n",
       "    </tr>\n",
       "  </tbody>\n",
       "</table>\n",
       "</div>"
      ],
      "text/plain": [
       "   AST  TRB  ORB  BLK  3PA Pos\n",
       "0  2.7  6.6  1.9  0.8  0.4  PF\n",
       "3  3.4  4.0  0.8  0.2  7.8  SG\n",
       "4  2.5  4.1  1.2  0.7  1.3  PG\n",
       "5  6.3  3.8  0.5  0.2  4.6  PG\n",
       "8  3.5  4.9  0.7  0.2  4.6  SG"
      ]
     },
     "execution_count": 44,
     "metadata": {},
     "output_type": "execute_result"
    }
   ],
   "source": [
    "# New clean dataframe:\n",
    "df2_randomforest = df_decision_tree1.copy()\n",
    "df2_randomforest = df2_randomforest[['AST', 'TRB', 'ORB', 'BLK', '3PA', 'Pos']]\n",
    "df2_randomforest.head()"
   ]
  },
  {
   "cell_type": "code",
   "execution_count": 45,
   "metadata": {},
   "outputs": [],
   "source": [
    "# Set X (features) and y (target):\n",
    "X = df2_randomforest.drop('Pos', axis=1)\n",
    "y = df2_randomforest.loc[:, 'Pos']"
   ]
  },
  {
   "cell_type": "code",
   "execution_count": 46,
   "metadata": {},
   "outputs": [
    {
     "data": {
      "text/plain": [
       "SG    947\n",
       "PG    873\n",
       "PF    814\n",
       "SF    809\n",
       "C     608\n",
       "Name: Pos, dtype: int64"
      ]
     },
     "execution_count": 46,
     "metadata": {},
     "output_type": "execute_result"
    }
   ],
   "source": [
    "# Check how many of each position in y-dataset:\n",
    "y.value_counts()"
   ]
  },
  {
   "cell_type": "code",
   "execution_count": 47,
   "metadata": {},
   "outputs": [],
   "source": [
    "# Apply position_dictionary established in Decision Tree 1 to this model:\n",
    "y = y.map(position_dictionary).values.reshape(-1,1)"
   ]
  },
  {
   "cell_type": "code",
   "execution_count": 48,
   "metadata": {},
   "outputs": [
    {
     "name": "stdout",
     "output_type": "stream",
     "text": [
      "X_train: (3038, 5)\n",
      "y_train: (3038, 1)\n",
      "X_test: (1013, 5)\n",
      "y_test: (1013, 1)\n"
     ]
    }
   ],
   "source": [
    "# Split X and y into X_train, X_test, y_train, y_test and check shape of each:\n",
    "X_train, X_test, y_train, y_test = train_test_split(X, y, random_state=1, stratify=y)\n",
    "print('X_train:', X_train.shape)\n",
    "print('y_train:', y_train.shape)\n",
    "print('X_test:', X_test.shape)\n",
    "print('y_test:', y_test.shape)"
   ]
  },
  {
   "cell_type": "code",
   "execution_count": 49,
   "metadata": {},
   "outputs": [],
   "source": [
    "# Scale X-data:\n",
    "scaler = StandardScaler()\n",
    "X_scaler = scaler.fit(X_train)\n",
    "\n",
    "X_train_scaled = X_scaler.transform(X_train)\n",
    "X_test_scaled = X_scaler.transform(X_test)"
   ]
  },
  {
   "cell_type": "code",
   "execution_count": 50,
   "metadata": {},
   "outputs": [],
   "source": [
    "# Create, fit, and predict Random Forest 2 Model:\n",
    "rf2_model = RandomForestClassifier(n_estimators=500, random_state=1)\n",
    "rf2_model = rf2_model.fit(X_train_scaled, y_train)\n",
    "predictions = rf2_model.predict(X_test_scaled)"
   ]
  },
  {
   "cell_type": "code",
   "execution_count": 51,
   "metadata": {},
   "outputs": [
    {
     "data": {
      "text/plain": [
       "0.6623889437314906"
      ]
     },
     "execution_count": 51,
     "metadata": {},
     "output_type": "execute_result"
    }
   ],
   "source": [
    "# Print accuracy score:\n",
    "rf2_accuracy_score = accuracy_score(y_test, predictions)\n",
    "rf2_accuracy_score"
   ]
  },
  {
   "cell_type": "code",
   "execution_count": 52,
   "metadata": {},
   "outputs": [
    {
     "data": {
      "image/png": "[encoded data removed]",
      "text/plain": [
       "<Figure size 648x504 with 2 Axes>"
      ]
     },
     "metadata": {
      "needs_background": "light"
     },
     "output_type": "display_data"
    }
   ],
   "source": [
    "# Print confusion matrix using pre-defined function:\n",
    "cm5 = confusion_matrix_heatmap(y_test, predictions)"
   ]
  },
  {
   "cell_type": "code",
   "execution_count": 53,
   "metadata": {},
   "outputs": [
    {
     "name": "stdout",
     "output_type": "stream",
     "text": [
      "              precision    recall  f1-score   support\n",
      "\n",
      "          PG       0.82      0.80      0.81       218\n",
      "          SG       0.62      0.65      0.64       237\n",
      "          SF       0.58      0.60      0.59       202\n",
      "          PF       0.60      0.56      0.58       204\n",
      "           C       0.69      0.70      0.70       152\n",
      "\n",
      "    accuracy                           0.66      1013\n",
      "   macro avg       0.66      0.66      0.66      1013\n",
      "weighted avg       0.66      0.66      0.66      1013\n",
      "\n"
     ]
    }
   ],
   "source": [
    "# Print classification report:\n",
    "rf2_class_report = classification_report(y_test, predictions, target_names = ['PG', 'SG', 'SF', 'PF', 'C'])\n",
    "print(rf2_class_report)"
   ]
  },
  {
   "cell_type": "markdown",
   "metadata": {},
   "source": [
    "# Comparing the results of Random Forest 1 to those of Random Forest 2; did reducing features to the top 5 improve the model?"
   ]
  },
  {
   "cell_type": "code",
   "execution_count": 54,
   "metadata": {},
   "outputs": [
    {
     "name": "stdout",
     "output_type": "stream",
     "text": [
      "Random Forest 1 Accuracy Score (all 20 features): 0.7137216189536032. \n",
      "Random Forest 2 Accuracy Score (top 5 features): 0.6623889437314906.\n"
     ]
    }
   ],
   "source": [
    "print(f'Random Forest 1 Accuracy Score (all 20 features): {rf1_accuracy_score}. \\nRandom Forest 2 Accuracy Score (top 5 features): {rf2_accuracy_score}.')"
   ]
  },
  {
   "cell_type": "code",
   "execution_count": 55,
   "metadata": {},
   "outputs": [
    {
     "name": "stdout",
     "output_type": "stream",
     "text": [
      "RF1 Class. Report (all 20 features):               precision    recall  f1-score   support\n",
      "\n",
      "          PG       0.85      0.83      0.84       218\n",
      "          SG       0.67      0.70      0.69       237\n",
      "          SF       0.64      0.64      0.64       202\n",
      "          PF       0.66      0.65      0.65       204\n",
      "           C       0.77      0.75      0.76       152\n",
      "\n",
      "    accuracy                           0.71      1013\n",
      "   macro avg       0.72      0.71      0.72      1013\n",
      "weighted avg       0.72      0.71      0.71      1013\n",
      ". \n",
      "RF2 Class. Report (top 5 features):               precision    recall  f1-score   support\n",
      "\n",
      "          PG       0.82      0.80      0.81       218\n",
      "          SG       0.62      0.65      0.64       237\n",
      "          SF       0.58      0.60      0.59       202\n",
      "          PF       0.60      0.56      0.58       204\n",
      "           C       0.69      0.70      0.70       152\n",
      "\n",
      "    accuracy                           0.66      1013\n",
      "   macro avg       0.66      0.66      0.66      1013\n",
      "weighted avg       0.66      0.66      0.66      1013\n",
      ".\n"
     ]
    }
   ],
   "source": [
    "print(f'RF1 Class. Report (all 20 features): {rf1_class_report}. \\nRF2 Class. Report (top 5 features): {rf2_class_report}.')"
   ]
  },
  {
   "cell_type": "markdown",
   "metadata": {},
   "source": [
    "#### Based on the above results, it appears that the model that uses all 20 features is better than the one that uses only the top 5:\n",
    "- 71.4% accuracy vs. 66.2% accuracy.\n",
    "- 72% precision vs. 66% precision.\n",
    "- 71% recall vs. 66% recall.\n",
    "- 72% F1 score vs. 66% F1 score."
   ]
  },
  {
   "cell_type": "markdown",
   "metadata": {},
   "source": [
    "# Support Vector Machine Model (SVM) (1 of 2):"
   ]
  },
  {
   "cell_type": "code",
   "execution_count": 56,
   "metadata": {},
   "outputs": [
    {
     "data": {
      "text/html": [
       "<div>\n",
       "<style scoped>\n",
       "    .dataframe tbody tr th:only-of-type {\n",
       "        vertical-align: middle;\n",
       "    }\n",
       "\n",
       "    .dataframe tbody tr th {\n",
       "        vertical-align: top;\n",
       "    }\n",
       "\n",
       "    .dataframe thead th {\n",
       "        text-align: right;\n",
       "    }\n",
       "</style>\n",
       "<table border=\"1\" class=\"dataframe\">\n",
       "  <thead>\n",
       "    <tr style=\"text-align: right;\">\n",
       "      <th></th>\n",
       "      <th>PTS</th>\n",
       "      <th>TRB</th>\n",
       "      <th>ORB</th>\n",
       "      <th>AST</th>\n",
       "      <th>STL</th>\n",
       "      <th>BLK</th>\n",
       "      <th>FG</th>\n",
       "      <th>FGA</th>\n",
       "      <th>FG%</th>\n",
       "      <th>3P</th>\n",
       "      <th>3PA</th>\n",
       "      <th>3P%</th>\n",
       "      <th>2P</th>\n",
       "      <th>2PA</th>\n",
       "      <th>2P%</th>\n",
       "      <th>FT</th>\n",
       "      <th>FTA</th>\n",
       "      <th>FT%</th>\n",
       "      <th>PF</th>\n",
       "      <th>TOV</th>\n",
       "      <th>Pos</th>\n",
       "    </tr>\n",
       "  </thead>\n",
       "  <tbody>\n",
       "    <tr>\n",
       "      <th>0</th>\n",
       "      <td>16.3</td>\n",
       "      <td>6.6</td>\n",
       "      <td>1.9</td>\n",
       "      <td>2.7</td>\n",
       "      <td>0.9</td>\n",
       "      <td>0.8</td>\n",
       "      <td>6.1</td>\n",
       "      <td>11.6</td>\n",
       "      <td>0.52</td>\n",
       "      <td>0.1</td>\n",
       "      <td>0.4</td>\n",
       "      <td>0.23</td>\n",
       "      <td>6.0</td>\n",
       "      <td>11.2</td>\n",
       "      <td>0.54</td>\n",
       "      <td>4.0</td>\n",
       "      <td>5.1</td>\n",
       "      <td>0.78</td>\n",
       "      <td>4.2</td>\n",
       "      <td>2.0</td>\n",
       "      <td>PF</td>\n",
       "    </tr>\n",
       "    <tr>\n",
       "      <th>3</th>\n",
       "      <td>23.3</td>\n",
       "      <td>4.0</td>\n",
       "      <td>0.8</td>\n",
       "      <td>3.4</td>\n",
       "      <td>1.3</td>\n",
       "      <td>0.2</td>\n",
       "      <td>8.1</td>\n",
       "      <td>17.9</td>\n",
       "      <td>0.45</td>\n",
       "      <td>3.2</td>\n",
       "      <td>7.8</td>\n",
       "      <td>0.41</td>\n",
       "      <td>4.9</td>\n",
       "      <td>10.1</td>\n",
       "      <td>0.49</td>\n",
       "      <td>3.9</td>\n",
       "      <td>4.3</td>\n",
       "      <td>0.90</td>\n",
       "      <td>1.8</td>\n",
       "      <td>2.2</td>\n",
       "      <td>SG</td>\n",
       "    </tr>\n",
       "    <tr>\n",
       "      <th>4</th>\n",
       "      <td>13.6</td>\n",
       "      <td>4.1</td>\n",
       "      <td>1.2</td>\n",
       "      <td>2.5</td>\n",
       "      <td>1.9</td>\n",
       "      <td>0.7</td>\n",
       "      <td>4.7</td>\n",
       "      <td>10.1</td>\n",
       "      <td>0.47</td>\n",
       "      <td>0.4</td>\n",
       "      <td>1.3</td>\n",
       "      <td>0.32</td>\n",
       "      <td>4.3</td>\n",
       "      <td>8.8</td>\n",
       "      <td>0.49</td>\n",
       "      <td>3.7</td>\n",
       "      <td>4.9</td>\n",
       "      <td>0.75</td>\n",
       "      <td>4.6</td>\n",
       "      <td>2.5</td>\n",
       "      <td>PG</td>\n",
       "    </tr>\n",
       "    <tr>\n",
       "      <th>5</th>\n",
       "      <td>11.3</td>\n",
       "      <td>3.8</td>\n",
       "      <td>0.5</td>\n",
       "      <td>6.3</td>\n",
       "      <td>1.5</td>\n",
       "      <td>0.2</td>\n",
       "      <td>4.1</td>\n",
       "      <td>10.9</td>\n",
       "      <td>0.38</td>\n",
       "      <td>1.5</td>\n",
       "      <td>4.6</td>\n",
       "      <td>0.33</td>\n",
       "      <td>2.6</td>\n",
       "      <td>6.3</td>\n",
       "      <td>0.42</td>\n",
       "      <td>1.5</td>\n",
       "      <td>2.1</td>\n",
       "      <td>0.69</td>\n",
       "      <td>2.9</td>\n",
       "      <td>2.3</td>\n",
       "      <td>PG</td>\n",
       "    </tr>\n",
       "    <tr>\n",
       "      <th>8</th>\n",
       "      <td>12.0</td>\n",
       "      <td>4.9</td>\n",
       "      <td>0.7</td>\n",
       "      <td>3.5</td>\n",
       "      <td>0.8</td>\n",
       "      <td>0.2</td>\n",
       "      <td>3.7</td>\n",
       "      <td>10.4</td>\n",
       "      <td>0.36</td>\n",
       "      <td>1.4</td>\n",
       "      <td>4.6</td>\n",
       "      <td>0.30</td>\n",
       "      <td>2.3</td>\n",
       "      <td>5.8</td>\n",
       "      <td>0.40</td>\n",
       "      <td>3.2</td>\n",
       "      <td>3.8</td>\n",
       "      <td>0.84</td>\n",
       "      <td>3.4</td>\n",
       "      <td>1.9</td>\n",
       "      <td>SG</td>\n",
       "    </tr>\n",
       "  </tbody>\n",
       "</table>\n",
       "</div>"
      ],
      "text/plain": [
       "    PTS  TRB  ORB  AST  STL  BLK   FG   FGA   FG%   3P  3PA   3P%   2P   2PA  \\\n",
       "0  16.3  6.6  1.9  2.7  0.9  0.8  6.1  11.6  0.52  0.1  0.4  0.23  6.0  11.2   \n",
       "3  23.3  4.0  0.8  3.4  1.3  0.2  8.1  17.9  0.45  3.2  7.8  0.41  4.9  10.1   \n",
       "4  13.6  4.1  1.2  2.5  1.9  0.7  4.7  10.1  0.47  0.4  1.3  0.32  4.3   8.8   \n",
       "5  11.3  3.8  0.5  6.3  1.5  0.2  4.1  10.9  0.38  1.5  4.6  0.33  2.6   6.3   \n",
       "8  12.0  4.9  0.7  3.5  0.8  0.2  3.7  10.4  0.36  1.4  4.6  0.30  2.3   5.8   \n",
       "\n",
       "    2P%   FT  FTA   FT%   PF  TOV Pos  \n",
       "0  0.54  4.0  5.1  0.78  4.2  2.0  PF  \n",
       "3  0.49  3.9  4.3  0.90  1.8  2.2  SG  \n",
       "4  0.49  3.7  4.9  0.75  4.6  2.5  PG  \n",
       "5  0.42  1.5  2.1  0.69  2.9  2.3  PG  \n",
       "8  0.40  3.2  3.8  0.84  3.4  1.9  SG  "
      ]
     },
     "execution_count": 56,
     "metadata": {},
     "output_type": "execute_result"
    }
   ],
   "source": [
    "# New clean dataframe:\n",
    "df1_svm1 = df_decision_tree1.copy()\n",
    "df1_svm1.head()"
   ]
  },
  {
   "cell_type": "code",
   "execution_count": 57,
   "metadata": {},
   "outputs": [],
   "source": [
    "# Set X (features) and y (target):\n",
    "X = df1_svm1.drop('Pos', axis=1)\n",
    "y = df1_svm1.loc[:, 'Pos']"
   ]
  },
  {
   "cell_type": "code",
   "execution_count": 58,
   "metadata": {},
   "outputs": [
    {
     "data": {
      "text/plain": [
       "SG    947\n",
       "PG    873\n",
       "PF    814\n",
       "SF    809\n",
       "C     608\n",
       "Name: Pos, dtype: int64"
      ]
     },
     "execution_count": 58,
     "metadata": {},
     "output_type": "execute_result"
    }
   ],
   "source": [
    "# Check how many of each position in y-dataset:\n",
    "y.value_counts()"
   ]
  },
  {
   "cell_type": "code",
   "execution_count": 59,
   "metadata": {},
   "outputs": [],
   "source": [
    "# Apply position_dictionary established in Decision Tree 1 to this model:\n",
    "y = y.map(position_dictionary).values.reshape(-1,1)"
   ]
  },
  {
   "cell_type": "code",
   "execution_count": 60,
   "metadata": {},
   "outputs": [
    {
     "name": "stdout",
     "output_type": "stream",
     "text": [
      "X_train: (3038, 20)\n",
      "y_train: (3038, 1)\n",
      "X_test: (1013, 20)\n",
      "y_test: (1013, 1)\n"
     ]
    }
   ],
   "source": [
    "# Split the X and y into X_train, X_test, y_train, y_test and check shape of each:\n",
    "X_train, X_test, y_train, y_test = train_test_split(X, y, random_state=1, stratify=y)\n",
    "print('X_train:', X_train.shape)\n",
    "print('y_train:', y_train.shape)\n",
    "print('X_test:', X_test.shape)\n",
    "print('y_test:', y_test.shape)"
   ]
  },
  {
   "cell_type": "code",
   "execution_count": 61,
   "metadata": {},
   "outputs": [],
   "source": [
    "# Scale X-data:\n",
    "scaler = StandardScaler()\n",
    "X_scaler = scaler.fit(X_train)\n",
    "\n",
    "X_train_scaled = X_scaler.transform(X_train)\n",
    "X_test_scaled = X_scaler.transform(X_test)"
   ]
  },
  {
   "cell_type": "code",
   "execution_count": 62,
   "metadata": {},
   "outputs": [],
   "source": [
    "# Create, fit, and predict Random Forest Model:\n",
    "svm1_model = svm.SVC(kernel='linear', random_state=1)\n",
    "svm1_model = svm1_model.fit(X_train_scaled, y_train)\n",
    "predictions = svm1_model.predict(X_test_scaled)"
   ]
  },
  {
   "cell_type": "code",
   "execution_count": 63,
   "metadata": {},
   "outputs": [
    {
     "data": {
      "text/plain": [
       "0.7058242843040474"
      ]
     },
     "execution_count": 63,
     "metadata": {},
     "output_type": "execute_result"
    }
   ],
   "source": [
    "svm1_accuracy_score = accuracy_score(y_test, predictions)\n",
    "svm1_accuracy_score"
   ]
  },
  {
   "cell_type": "code",
   "execution_count": 64,
   "metadata": {},
   "outputs": [
    {
     "data": {
      "image/png": "[encoded data removed]",
      "text/plain": [
       "<Figure size 648x504 with 2 Axes>"
      ]
     },
     "metadata": {
      "needs_background": "light"
     },
     "output_type": "display_data"
    }
   ],
   "source": [
    "# Print confusion matrix using pre-defined function:\n",
    "cm6 = confusion_matrix_heatmap(y_test, predictions)"
   ]
  },
  {
   "cell_type": "code",
   "execution_count": 65,
   "metadata": {},
   "outputs": [
    {
     "name": "stdout",
     "output_type": "stream",
     "text": [
      "              precision    recall  f1-score   support\n",
      "\n",
      "          PG       0.84      0.85      0.84       218\n",
      "          SG       0.66      0.75      0.70       237\n",
      "          SF       0.61      0.56      0.58       202\n",
      "          PF       0.67      0.64      0.65       204\n",
      "           C       0.76      0.72      0.74       152\n",
      "\n",
      "    accuracy                           0.71      1013\n",
      "   macro avg       0.71      0.70      0.70      1013\n",
      "weighted avg       0.71      0.71      0.70      1013\n",
      "\n"
     ]
    }
   ],
   "source": [
    "# Print classification report:\n",
    "svm1_class_report = classification_report(y_test, predictions, target_names = ['PG', 'SG', 'SF', 'PF', 'C'])\n",
    "print(svm1_class_report)"
   ]
  },
  {
   "cell_type": "code",
   "execution_count": 66,
   "metadata": {},
   "outputs": [
    {
     "data": {
      "image/png": "[encoded data removed]",
      "text/plain": [
       "<Figure size 432x288 with 1 Axes>"
      ]
     },
     "metadata": {
      "needs_background": "light"
     },
     "output_type": "display_data"
    }
   ],
   "source": [
    "# Construct plot that displays Feature Importances (SVM Model does not have a simple Feature Importance list like Decision Trees and Random Forests):\n",
    "def f_importances(coef, names, top=-1):\n",
    "    imp = coef\n",
    "    imp, names = zip(*sorted(list(zip(imp, names))))\n",
    "\n",
    "    # Show all features\n",
    "    if top == -1:\n",
    "        top = len(names)\n",
    "\n",
    "    plt.barh(range(top), imp[::-1][0:top], align='center')\n",
    "    plt.yticks(range(top), names[::-1][0:top])\n",
    "    plt.show()\n",
    "\n",
    "feature_names = ['PTS', 'TRB', 'ORB', 'AST', 'STL', 'BLK', 'FG', 'FGA', 'FG%', '3P', '3PA', '3P%', '2P', '2PA', '2P%', 'FT', 'FTA', 'FT%', 'PF', 'TOV']\n",
    "f_importances(abs(svm1_model.coef_[0]), feature_names)"
   ]
  },
  {
   "cell_type": "markdown",
   "metadata": {},
   "source": [
    "# Support Vector Machine Model (SVM) (2 of 2):"
   ]
  },
  {
   "cell_type": "code",
   "execution_count": 67,
   "metadata": {},
   "outputs": [
    {
     "data": {
      "text/html": [
       "<div>\n",
       "<style scoped>\n",
       "    .dataframe tbody tr th:only-of-type {\n",
       "        vertical-align: middle;\n",
       "    }\n",
       "\n",
       "    .dataframe tbody tr th {\n",
       "        vertical-align: top;\n",
       "    }\n",
       "\n",
       "    .dataframe thead th {\n",
       "        text-align: right;\n",
       "    }\n",
       "</style>\n",
       "<table border=\"1\" class=\"dataframe\">\n",
       "  <thead>\n",
       "    <tr style=\"text-align: right;\">\n",
       "      <th></th>\n",
       "      <th>AST</th>\n",
       "      <th>BLK</th>\n",
       "      <th>TRB</th>\n",
       "      <th>2P</th>\n",
       "      <th>FTA</th>\n",
       "      <th>Pos</th>\n",
       "    </tr>\n",
       "  </thead>\n",
       "  <tbody>\n",
       "    <tr>\n",
       "      <th>0</th>\n",
       "      <td>2.7</td>\n",
       "      <td>0.8</td>\n",
       "      <td>6.6</td>\n",
       "      <td>6.0</td>\n",
       "      <td>5.1</td>\n",
       "      <td>PF</td>\n",
       "    </tr>\n",
       "    <tr>\n",
       "      <th>3</th>\n",
       "      <td>3.4</td>\n",
       "      <td>0.2</td>\n",
       "      <td>4.0</td>\n",
       "      <td>4.9</td>\n",
       "      <td>4.3</td>\n",
       "      <td>SG</td>\n",
       "    </tr>\n",
       "    <tr>\n",
       "      <th>4</th>\n",
       "      <td>2.5</td>\n",
       "      <td>0.7</td>\n",
       "      <td>4.1</td>\n",
       "      <td>4.3</td>\n",
       "      <td>4.9</td>\n",
       "      <td>PG</td>\n",
       "    </tr>\n",
       "    <tr>\n",
       "      <th>5</th>\n",
       "      <td>6.3</td>\n",
       "      <td>0.2</td>\n",
       "      <td>3.8</td>\n",
       "      <td>2.6</td>\n",
       "      <td>2.1</td>\n",
       "      <td>PG</td>\n",
       "    </tr>\n",
       "    <tr>\n",
       "      <th>8</th>\n",
       "      <td>3.5</td>\n",
       "      <td>0.2</td>\n",
       "      <td>4.9</td>\n",
       "      <td>2.3</td>\n",
       "      <td>3.8</td>\n",
       "      <td>SG</td>\n",
       "    </tr>\n",
       "  </tbody>\n",
       "</table>\n",
       "</div>"
      ],
      "text/plain": [
       "   AST  BLK  TRB   2P  FTA Pos\n",
       "0  2.7  0.8  6.6  6.0  5.1  PF\n",
       "3  3.4  0.2  4.0  4.9  4.3  SG\n",
       "4  2.5  0.7  4.1  4.3  4.9  PG\n",
       "5  6.3  0.2  3.8  2.6  2.1  PG\n",
       "8  3.5  0.2  4.9  2.3  3.8  SG"
      ]
     },
     "execution_count": 67,
     "metadata": {},
     "output_type": "execute_result"
    }
   ],
   "source": [
    "# New clean dataframe:\n",
    "df2_svm2 = df_decision_tree1.copy()\n",
    "df2_svm2 = df2_svm2[['AST', 'BLK', 'TRB', '2P', 'FTA', 'Pos']]\n",
    "df2_svm2.head()"
   ]
  },
  {
   "cell_type": "code",
   "execution_count": 68,
   "metadata": {},
   "outputs": [],
   "source": [
    "# Set X (features) and y (target):\n",
    "X = df2_svm2.drop('Pos', axis=1)\n",
    "y = df2_svm2.loc[:, 'Pos']"
   ]
  },
  {
   "cell_type": "code",
   "execution_count": 69,
   "metadata": {},
   "outputs": [
    {
     "data": {
      "text/plain": [
       "SG    947\n",
       "PG    873\n",
       "PF    814\n",
       "SF    809\n",
       "C     608\n",
       "Name: Pos, dtype: int64"
      ]
     },
     "execution_count": 69,
     "metadata": {},
     "output_type": "execute_result"
    }
   ],
   "source": [
    "# Check how many of each position in y-dataset:\n",
    "y.value_counts()"
   ]
  },
  {
   "cell_type": "code",
   "execution_count": 70,
   "metadata": {},
   "outputs": [],
   "source": [
    "# Apply position_dictionary established in Decision Tree 1 to this model:\n",
    "y = y.map(position_dictionary).values.reshape(-1,1)"
   ]
  },
  {
   "cell_type": "code",
   "execution_count": 71,
   "metadata": {},
   "outputs": [
    {
     "name": "stdout",
     "output_type": "stream",
     "text": [
      "X_train: (3038, 5)\n",
      "y_train: (3038, 1)\n",
      "X_test: (1013, 5)\n",
      "y_test: (1013, 1)\n"
     ]
    }
   ],
   "source": [
    "# Split X and y into X_train, X_test, y_train, y_test and check shape of each:\n",
    "X_train, X_test, y_train, y_test = train_test_split(X, y, random_state=1, stratify=y)\n",
    "print('X_train:', X_train.shape)\n",
    "print('y_train:', y_train.shape)\n",
    "print('X_test:', X_test.shape)\n",
    "print('y_test:', y_test.shape)"
   ]
  },
  {
   "cell_type": "code",
   "execution_count": 72,
   "metadata": {},
   "outputs": [],
   "source": [
    "# Scale X-data:\n",
    "scaler = StandardScaler()\n",
    "X_scaler = scaler.fit(X_train)\n",
    "\n",
    "X_train_scaled = X_scaler.transform(X_train)\n",
    "X_test_scaled = X_scaler.transform(X_test)"
   ]
  },
  {
   "cell_type": "code",
   "execution_count": 73,
   "metadata": {},
   "outputs": [],
   "source": [
    "# Create, fit, and predict SVM 2 Model:\n",
    "svm2_model = svm.SVC(kernel='linear', random_state=1)\n",
    "svm2_model = svm2_model.fit(X_train_scaled, y_train)\n",
    "predictions = svm2_model.predict(X_test_scaled)"
   ]
  },
  {
   "cell_type": "code",
   "execution_count": 74,
   "metadata": {},
   "outputs": [
    {
     "data": {
      "text/plain": [
       "0.6722606120434353"
      ]
     },
     "execution_count": 74,
     "metadata": {},
     "output_type": "execute_result"
    }
   ],
   "source": [
    "# Print accuracy score:\n",
    "svm2_accuracy_score = accuracy_score(y_test, predictions)\n",
    "svm2_accuracy_score"
   ]
  },
  {
   "cell_type": "code",
   "execution_count": 75,
   "metadata": {},
   "outputs": [
    {
     "data": {
      "image/png": "[encoded data removed]",
      "text/plain": [
       "<Figure size 648x504 with 2 Axes>"
      ]
     },
     "metadata": {
      "needs_background": "light"
     },
     "output_type": "display_data"
    }
   ],
   "source": [
    "# Print confusion matrix using pre-defined function:\n",
    "cm7 = confusion_matrix_heatmap(y_test, predictions)"
   ]
  },
  {
   "cell_type": "code",
   "execution_count": 76,
   "metadata": {},
   "outputs": [
    {
     "name": "stdout",
     "output_type": "stream",
     "text": [
      "              precision    recall  f1-score   support\n",
      "\n",
      "          PG       0.84      0.82      0.83       218\n",
      "          SG       0.62      0.74      0.67       237\n",
      "          SF       0.58      0.50      0.54       202\n",
      "          PF       0.61      0.60      0.61       204\n",
      "           C       0.72      0.68      0.70       152\n",
      "\n",
      "    accuracy                           0.67      1013\n",
      "   macro avg       0.67      0.67      0.67      1013\n",
      "weighted avg       0.67      0.67      0.67      1013\n",
      "\n"
     ]
    }
   ],
   "source": [
    "# Print classification report:\n",
    "svm2_class_report = classification_report(y_test, predictions, target_names = ['PG', 'SG', 'SF', 'PF', 'C'])\n",
    "print(svm2_class_report)"
   ]
  },
  {
   "cell_type": "markdown",
   "metadata": {},
   "source": [
    "# Comparing the results of SVM 1 to those of SVM 2; did reducing features to the top 5 improve the model"
   ]
  },
  {
   "cell_type": "code",
   "execution_count": 77,
   "metadata": {},
   "outputs": [
    {
     "name": "stdout",
     "output_type": "stream",
     "text": [
      "SVM 1 Accuracy Score (all 20 features): 0.7058242843040474. \n",
      "SVM 2 Accuracy Score (top 5 features): 0.6722606120434353.\n"
     ]
    }
   ],
   "source": [
    "print(f'SVM 1 Accuracy Score (all 20 features): {svm1_accuracy_score}. \\nSVM 2 Accuracy Score (top 5 features): {svm2_accuracy_score}.')"
   ]
  },
  {
   "cell_type": "code",
   "execution_count": 78,
   "metadata": {},
   "outputs": [
    {
     "name": "stdout",
     "output_type": "stream",
     "text": [
      "SVM1 Class. Report (all 20 features):               precision    recall  f1-score   support\n",
      "\n",
      "          PG       0.84      0.85      0.84       218\n",
      "          SG       0.66      0.75      0.70       237\n",
      "          SF       0.61      0.56      0.58       202\n",
      "          PF       0.67      0.64      0.65       204\n",
      "           C       0.76      0.72      0.74       152\n",
      "\n",
      "    accuracy                           0.71      1013\n",
      "   macro avg       0.71      0.70      0.70      1013\n",
      "weighted avg       0.71      0.71      0.70      1013\n",
      ". \n",
      "SVM2 Class. Report (top 5 features):               precision    recall  f1-score   support\n",
      "\n",
      "          PG       0.84      0.82      0.83       218\n",
      "          SG       0.62      0.74      0.67       237\n",
      "          SF       0.58      0.50      0.54       202\n",
      "          PF       0.61      0.60      0.61       204\n",
      "           C       0.72      0.68      0.70       152\n",
      "\n",
      "    accuracy                           0.67      1013\n",
      "   macro avg       0.67      0.67      0.67      1013\n",
      "weighted avg       0.67      0.67      0.67      1013\n",
      ".\n"
     ]
    }
   ],
   "source": [
    "print(f'SVM1 Class. Report (all 20 features): {svm1_class_report}. \\nSVM2 Class. Report (top 5 features): {svm2_class_report}.')"
   ]
  },
  {
   "cell_type": "markdown",
   "metadata": {},
   "source": [
    "# Based on the above results, it appears that the model that uses all 20 features is slightly better than the one that uses only the top 5:\n",
    "- 70.6% accuracy vs. 67.2% accuracy.\n",
    "- 71% precision vs. 67% precision.\n",
    "- 70% recall vs. 67% recall.\n",
    "- 70% f1 score vs. 67% f1 score."
   ]
  },
  {
   "cell_type": "markdown",
   "metadata": {},
   "source": [
    "# Gradient Boosted Trees (1 of 2):"
   ]
  },
  {
   "cell_type": "code",
   "execution_count": 79,
   "metadata": {},
   "outputs": [],
   "source": [
    "# New clean dataframe:\n",
    "df1_gbt1 = df_decision_tree1.copy()"
   ]
  },
  {
   "cell_type": "code",
   "execution_count": 80,
   "metadata": {},
   "outputs": [],
   "source": [
    "# Set X (features) and y (target):\n",
    "X = df1_gbt1.drop('Pos', axis=1)\n",
    "y = df1_gbt1.loc[:, 'Pos']"
   ]
  },
  {
   "cell_type": "code",
   "execution_count": 81,
   "metadata": {},
   "outputs": [
    {
     "data": {
      "text/plain": [
       "SG    947\n",
       "PG    873\n",
       "PF    814\n",
       "SF    809\n",
       "C     608\n",
       "Name: Pos, dtype: int64"
      ]
     },
     "execution_count": 81,
     "metadata": {},
     "output_type": "execute_result"
    }
   ],
   "source": [
    "# Check how many of each position in y-dataset:\n",
    "y.value_counts()"
   ]
  },
  {
   "cell_type": "code",
   "execution_count": 82,
   "metadata": {},
   "outputs": [],
   "source": [
    "# Apply position_dictionary established in Decision Tree 1 to this model:\n",
    "y = y.map(position_dictionary).values.reshape(-1,1)"
   ]
  },
  {
   "cell_type": "code",
   "execution_count": 83,
   "metadata": {},
   "outputs": [
    {
     "name": "stdout",
     "output_type": "stream",
     "text": [
      "X_train: (3038, 20)\n",
      "y_train: (3038, 1)\n",
      "X_test: (1013, 20)\n",
      "y_test: (1013, 1)\n"
     ]
    }
   ],
   "source": [
    "# Split the X and y into X_train, X_test, y_train, y_test and check shape of each:\n",
    "X_train, X_test, y_train, y_test = train_test_split(X, y, random_state=1, stratify=y)\n",
    "print('X_train:', X_train.shape)\n",
    "print('y_train:', y_train.shape)\n",
    "print('X_test:', X_test.shape)\n",
    "print('y_test:', y_test.shape)"
   ]
  },
  {
   "cell_type": "code",
   "execution_count": 84,
   "metadata": {},
   "outputs": [],
   "source": [
    "# Scale X-data:\n",
    "scaler = StandardScaler()\n",
    "X_scaler = scaler.fit(X_train)\n",
    "\n",
    "X_train_scaled = X_scaler.transform(X_train)\n",
    "X_test_scaled = X_scaler.transform(X_test)"
   ]
  },
  {
   "cell_type": "code",
   "execution_count": 85,
   "metadata": {},
   "outputs": [
    {
     "name": "stdout",
     "output_type": "stream",
     "text": [
      "Learning rate:  0.05\n",
      "Accuracy score (training): 0.692\n",
      "Accuracy score (validation): 0.671\n",
      "\n",
      "Learning rate:  0.1\n",
      "Accuracy score (training): 0.720\n",
      "Accuracy score (validation): 0.688\n",
      "\n",
      "Learning rate:  0.25\n",
      "Accuracy score (training): 0.771\n",
      "Accuracy score (validation): 0.690\n",
      "\n",
      "Learning rate:  0.5\n",
      "Accuracy score (training): 0.826\n",
      "Accuracy score (validation): 0.694\n",
      "\n",
      "Learning rate:  0.75\n",
      "Accuracy score (training): 0.847\n",
      "Accuracy score (validation): 0.684\n",
      "\n",
      "Learning rate:  1\n",
      "Accuracy score (training): 0.866\n",
      "Accuracy score (validation): 0.654\n",
      "\n"
     ]
    }
   ],
   "source": [
    "# Initial Import:\n",
    "from sklearn.ensemble import GradientBoostingClassifier\n",
    "\n",
    "# Before creating Gradient Boosting Tree Model, determine best learning_rate to use in model:\n",
    "learning_rates = [0.05, 0.1, 0.25, 0.5, 0.75, 1]\n",
    "for learning_rate in learning_rates:\n",
    "    gbt1_model = GradientBoostingClassifier(n_estimators=20, learning_rate=learning_rate, max_features=5, max_depth=3, random_state=0)\n",
    "\n",
    "    # Fit the model\n",
    "    gbt1_model.fit(X_train_scaled, y_train.ravel())\n",
    "    print(\"Learning rate: \", learning_rate)\n",
    "\n",
    "    # Score the model\n",
    "    print(\"Accuracy score (training): {0:.3f}\".format(\n",
    "        gbt1_model.score(\n",
    "            X_train_scaled,\n",
    "            y_train.ravel())))\n",
    "    print(\"Accuracy score (validation): {0:.3f}\".format(\n",
    "        gbt1_model.score(\n",
    "            X_test_scaled,\n",
    "            y_test.ravel())))\n",
    "    print()"
   ]
  },
  {
   "cell_type": "code",
   "execution_count": 86,
   "metadata": {},
   "outputs": [],
   "source": [
    "# Create, fit, and predict Gradient Boosted Tree Model:\n",
    "gbt1_model = GradientBoostingClassifier(n_estimators=20, learning_rate=0.75, max_depth=3, random_state=1)\n",
    "gbt1_model = gbt1_model.fit(X_train_scaled, y_train)\n",
    "predictions = gbt1_model.predict(X_test_scaled)"
   ]
  },
  {
   "cell_type": "code",
   "execution_count": 87,
   "metadata": {},
   "outputs": [
    {
     "data": {
      "text/plain": [
       "0.6623889437314906"
      ]
     },
     "execution_count": 87,
     "metadata": {},
     "output_type": "execute_result"
    }
   ],
   "source": [
    "gbt1_accuracy_score = accuracy_score(y_test, predictions)\n",
    "gbt1_accuracy_score"
   ]
  },
  {
   "cell_type": "code",
   "execution_count": 88,
   "metadata": {},
   "outputs": [
    {
     "data": {
      "image/png": "[encoded data removed]",
      "text/plain": [
       "<Figure size 648x504 with 2 Axes>"
      ]
     },
     "metadata": {
      "needs_background": "light"
     },
     "output_type": "display_data"
    }
   ],
   "source": [
    "# Print confusion matrix using pre-defined function:\n",
    "cm8 = confusion_matrix_heatmap(y_test, predictions)"
   ]
  },
  {
   "cell_type": "code",
   "execution_count": 89,
   "metadata": {},
   "outputs": [
    {
     "name": "stdout",
     "output_type": "stream",
     "text": [
      "              precision    recall  f1-score   support\n",
      "\n",
      "          PG       0.81      0.80      0.80       218\n",
      "          SG       0.59      0.63      0.61       237\n",
      "          SF       0.56      0.57      0.57       202\n",
      "          PF       0.65      0.60      0.62       204\n",
      "           C       0.72      0.72      0.72       152\n",
      "\n",
      "    accuracy                           0.66      1013\n",
      "   macro avg       0.67      0.66      0.67      1013\n",
      "weighted avg       0.66      0.66      0.66      1013\n",
      "\n"
     ]
    }
   ],
   "source": [
    "# Print classification report:\n",
    "gbt1_class_report = classification_report(y_test, predictions, target_names = ['PG', 'SG', 'SF', 'PF', 'C'])\n",
    "print(gbt1_class_report)"
   ]
  },
  {
   "cell_type": "code",
   "execution_count": 90,
   "metadata": {},
   "outputs": [
    {
     "data": {
      "text/html": [
       "<div>\n",
       "<style scoped>\n",
       "    .dataframe tbody tr th:only-of-type {\n",
       "        vertical-align: middle;\n",
       "    }\n",
       "\n",
       "    .dataframe tbody tr th {\n",
       "        vertical-align: top;\n",
       "    }\n",
       "\n",
       "    .dataframe thead th {\n",
       "        text-align: right;\n",
       "    }\n",
       "</style>\n",
       "<table border=\"1\" class=\"dataframe\">\n",
       "  <thead>\n",
       "    <tr style=\"text-align: right;\">\n",
       "      <th></th>\n",
       "      <th>Importance</th>\n",
       "    </tr>\n",
       "  </thead>\n",
       "  <tbody>\n",
       "    <tr>\n",
       "      <th>TRB</th>\n",
       "      <td>0.391388</td>\n",
       "    </tr>\n",
       "    <tr>\n",
       "      <th>AST</th>\n",
       "      <td>0.299916</td>\n",
       "    </tr>\n",
       "    <tr>\n",
       "      <th>BLK</th>\n",
       "      <td>0.063972</td>\n",
       "    </tr>\n",
       "    <tr>\n",
       "      <th>STL</th>\n",
       "      <td>0.030839</td>\n",
       "    </tr>\n",
       "    <tr>\n",
       "      <th>ORB</th>\n",
       "      <td>0.028411</td>\n",
       "    </tr>\n",
       "    <tr>\n",
       "      <th>PF</th>\n",
       "      <td>0.025411</td>\n",
       "    </tr>\n",
       "    <tr>\n",
       "      <th>FTA</th>\n",
       "      <td>0.015821</td>\n",
       "    </tr>\n",
       "    <tr>\n",
       "      <th>3PA</th>\n",
       "      <td>0.015047</td>\n",
       "    </tr>\n",
       "    <tr>\n",
       "      <th>FG%</th>\n",
       "      <td>0.014168</td>\n",
       "    </tr>\n",
       "    <tr>\n",
       "      <th>FGA</th>\n",
       "      <td>0.014110</td>\n",
       "    </tr>\n",
       "    <tr>\n",
       "      <th>TOV</th>\n",
       "      <td>0.013518</td>\n",
       "    </tr>\n",
       "    <tr>\n",
       "      <th>2PA</th>\n",
       "      <td>0.013395</td>\n",
       "    </tr>\n",
       "    <tr>\n",
       "      <th>PTS</th>\n",
       "      <td>0.013165</td>\n",
       "    </tr>\n",
       "    <tr>\n",
       "      <th>FT%</th>\n",
       "      <td>0.012766</td>\n",
       "    </tr>\n",
       "    <tr>\n",
       "      <th>2P%</th>\n",
       "      <td>0.012343</td>\n",
       "    </tr>\n",
       "    <tr>\n",
       "      <th>2P</th>\n",
       "      <td>0.009813</td>\n",
       "    </tr>\n",
       "    <tr>\n",
       "      <th>FG</th>\n",
       "      <td>0.007842</td>\n",
       "    </tr>\n",
       "    <tr>\n",
       "      <th>FT</th>\n",
       "      <td>0.006516</td>\n",
       "    </tr>\n",
       "    <tr>\n",
       "      <th>3P%</th>\n",
       "      <td>0.005827</td>\n",
       "    </tr>\n",
       "    <tr>\n",
       "      <th>3P</th>\n",
       "      <td>0.005730</td>\n",
       "    </tr>\n",
       "  </tbody>\n",
       "</table>\n",
       "</div>"
      ],
      "text/plain": [
       "     Importance\n",
       "TRB    0.391388\n",
       "AST    0.299916\n",
       "BLK    0.063972\n",
       "STL    0.030839\n",
       "ORB    0.028411\n",
       "PF     0.025411\n",
       "FTA    0.015821\n",
       "3PA    0.015047\n",
       "FG%    0.014168\n",
       "FGA    0.014110\n",
       "TOV    0.013518\n",
       "2PA    0.013395\n",
       "PTS    0.013165\n",
       "FT%    0.012766\n",
       "2P%    0.012343\n",
       "2P     0.009813\n",
       "FG     0.007842\n",
       "FT     0.006516\n",
       "3P%    0.005827\n",
       "3P     0.005730"
      ]
     },
     "execution_count": 90,
     "metadata": {},
     "output_type": "execute_result"
    }
   ],
   "source": [
    "gbt1_importances = pd.DataFrame(gbt1_model.feature_importances_, index = X_train.columns, columns=['Importance']).sort_values('Importance', ascending=False)\n",
    "gbt1_importances"
   ]
  },
  {
   "cell_type": "markdown",
   "metadata": {},
   "source": [
    "# Gradient Boosted Trees (2 of 2):\n",
    "\n",
    "### This model will use the top 5 features"
   ]
  },
  {
   "cell_type": "code",
   "execution_count": 92,
   "metadata": {},
   "outputs": [
    {
     "data": {
      "text/html": [
       "<div>\n",
       "<style scoped>\n",
       "    .dataframe tbody tr th:only-of-type {\n",
       "        vertical-align: middle;\n",
       "    }\n",
       "\n",
       "    .dataframe tbody tr th {\n",
       "        vertical-align: top;\n",
       "    }\n",
       "\n",
       "    .dataframe thead th {\n",
       "        text-align: right;\n",
       "    }\n",
       "</style>\n",
       "<table border=\"1\" class=\"dataframe\">\n",
       "  <thead>\n",
       "    <tr style=\"text-align: right;\">\n",
       "      <th></th>\n",
       "      <th>TRB</th>\n",
       "      <th>AST</th>\n",
       "      <th>BLK</th>\n",
       "      <th>STL</th>\n",
       "      <th>ORB</th>\n",
       "      <th>Pos</th>\n",
       "    </tr>\n",
       "  </thead>\n",
       "  <tbody>\n",
       "    <tr>\n",
       "      <th>0</th>\n",
       "      <td>6.6</td>\n",
       "      <td>2.7</td>\n",
       "      <td>0.8</td>\n",
       "      <td>0.9</td>\n",
       "      <td>1.9</td>\n",
       "      <td>PF</td>\n",
       "    </tr>\n",
       "    <tr>\n",
       "      <th>3</th>\n",
       "      <td>4.0</td>\n",
       "      <td>3.4</td>\n",
       "      <td>0.2</td>\n",
       "      <td>1.3</td>\n",
       "      <td>0.8</td>\n",
       "      <td>SG</td>\n",
       "    </tr>\n",
       "    <tr>\n",
       "      <th>4</th>\n",
       "      <td>4.1</td>\n",
       "      <td>2.5</td>\n",
       "      <td>0.7</td>\n",
       "      <td>1.9</td>\n",
       "      <td>1.2</td>\n",
       "      <td>PG</td>\n",
       "    </tr>\n",
       "    <tr>\n",
       "      <th>5</th>\n",
       "      <td>3.8</td>\n",
       "      <td>6.3</td>\n",
       "      <td>0.2</td>\n",
       "      <td>1.5</td>\n",
       "      <td>0.5</td>\n",
       "      <td>PG</td>\n",
       "    </tr>\n",
       "    <tr>\n",
       "      <th>8</th>\n",
       "      <td>4.9</td>\n",
       "      <td>3.5</td>\n",
       "      <td>0.2</td>\n",
       "      <td>0.8</td>\n",
       "      <td>0.7</td>\n",
       "      <td>SG</td>\n",
       "    </tr>\n",
       "  </tbody>\n",
       "</table>\n",
       "</div>"
      ],
      "text/plain": [
       "   TRB  AST  BLK  STL  ORB Pos\n",
       "0  6.6  2.7  0.8  0.9  1.9  PF\n",
       "3  4.0  3.4  0.2  1.3  0.8  SG\n",
       "4  4.1  2.5  0.7  1.9  1.2  PG\n",
       "5  3.8  6.3  0.2  1.5  0.5  PG\n",
       "8  4.9  3.5  0.2  0.8  0.7  SG"
      ]
     },
     "execution_count": 92,
     "metadata": {},
     "output_type": "execute_result"
    }
   ],
   "source": [
    "# New clean dataframe:\n",
    "df2_gbt2 = df_decision_tree1.copy()\n",
    "df2_gbt2 = df2_gbt2[['TRB', 'AST', 'BLK', 'STL', 'ORB', 'Pos']]\n",
    "df2_gbt2.head()"
   ]
  },
  {
   "cell_type": "code",
   "execution_count": 93,
   "metadata": {},
   "outputs": [],
   "source": [
    "# Set X (features) and y (target):\n",
    "X = df2_gbt2.drop('Pos', axis=1)\n",
    "y = df2_gbt2.loc[:, 'Pos']"
   ]
  },
  {
   "cell_type": "code",
   "execution_count": 94,
   "metadata": {},
   "outputs": [
    {
     "data": {
      "text/plain": [
       "SG    947\n",
       "PG    873\n",
       "PF    814\n",
       "SF    809\n",
       "C     608\n",
       "Name: Pos, dtype: int64"
      ]
     },
     "execution_count": 94,
     "metadata": {},
     "output_type": "execute_result"
    }
   ],
   "source": [
    "# Check how many of each position in y-dataset:\n",
    "y.value_counts()"
   ]
  },
  {
   "cell_type": "code",
   "execution_count": 95,
   "metadata": {},
   "outputs": [],
   "source": [
    "# Apply position_dictionary established in Decision Tree 1 to this model:\n",
    "y = y.map(position_dictionary).values.reshape(-1,1)"
   ]
  },
  {
   "cell_type": "code",
   "execution_count": 96,
   "metadata": {},
   "outputs": [
    {
     "name": "stdout",
     "output_type": "stream",
     "text": [
      "X_train: (3038, 5)\n",
      "y_train: (3038, 1)\n",
      "X_test: (1013, 5)\n",
      "y_test: (1013, 1)\n"
     ]
    }
   ],
   "source": [
    "# Split X and y into X_train, X_test, y_train, y_test and check shape of each:\n",
    "X_train, X_test, y_train, y_test = train_test_split(X, y, random_state=1, stratify=y)\n",
    "print('X_train:', X_train.shape)\n",
    "print('y_train:', y_train.shape)\n",
    "print('X_test:', X_test.shape)\n",
    "print('y_test:', y_test.shape)"
   ]
  },
  {
   "cell_type": "code",
   "execution_count": 97,
   "metadata": {},
   "outputs": [],
   "source": [
    "# Scale X-data:\n",
    "scaler = StandardScaler()\n",
    "X_scaler = scaler.fit(X_train)\n",
    "\n",
    "X_train_scaled = X_scaler.transform(X_train)\n",
    "X_test_scaled = X_scaler.transform(X_test)"
   ]
  },
  {
   "cell_type": "code",
   "execution_count": 98,
   "metadata": {},
   "outputs": [],
   "source": [
    "# Create, fit, and predict Gradient Boosted Tree Model:\n",
    "gbt2_model = GradientBoostingClassifier(n_estimators=20, learning_rate=0.75, max_depth=3, random_state=1)\n",
    "gbt2_model = gbt2_model.fit(X_train_scaled, y_train)\n",
    "predictions = gbt2_model.predict(X_test_scaled)"
   ]
  },
  {
   "cell_type": "code",
   "execution_count": 99,
   "metadata": {},
   "outputs": [
    {
     "data": {
      "text/plain": [
       "0.6574531095755183"
      ]
     },
     "execution_count": 99,
     "metadata": {},
     "output_type": "execute_result"
    }
   ],
   "source": [
    "# Print accuracy score:\n",
    "gbt2_accuracy_score = accuracy_score(y_test, predictions)\n",
    "gbt2_accuracy_score"
   ]
  },
  {
   "cell_type": "code",
   "execution_count": 100,
   "metadata": {},
   "outputs": [
    {
     "data": {
      "image/png": "[encoded data removed]",
      "text/plain": [
       "<Figure size 648x504 with 2 Axes>"
      ]
     },
     "metadata": {
      "needs_background": "light"
     },
     "output_type": "display_data"
    }
   ],
   "source": [
    "# Print confusion matrix using pre-defined function:  \n",
    "cm9 = confusion_matrix_heatmap(y_test, predictions)"
   ]
  },
  {
   "cell_type": "code",
   "execution_count": 101,
   "metadata": {},
   "outputs": [
    {
     "name": "stdout",
     "output_type": "stream",
     "text": [
      "              precision    recall  f1-score   support\n",
      "\n",
      "          PG       0.80      0.84      0.82       218\n",
      "          SG       0.62      0.62      0.62       237\n",
      "          SF       0.54      0.53      0.53       202\n",
      "          PF       0.60      0.59      0.60       204\n",
      "           C       0.72      0.70      0.71       152\n",
      "\n",
      "    accuracy                           0.66      1013\n",
      "   macro avg       0.66      0.66      0.66      1013\n",
      "weighted avg       0.66      0.66      0.66      1013\n",
      "\n"
     ]
    }
   ],
   "source": [
    "gbt2_class_report = classification_report(y_test, predictions, target_names = ['PG', 'SG', 'SF', 'PF', 'C'])\n",
    "print(gbt2_class_report)"
   ]
  },
  {
   "cell_type": "markdown",
   "metadata": {},
   "source": [
    "# Compare the results of Gradient Boosted Tree 1 to those of Gradient Boosted Tree 2; did reducing features to the top 5 improve the model?"
   ]
  },
  {
   "cell_type": "code",
   "execution_count": 102,
   "metadata": {},
   "outputs": [
    {
     "name": "stdout",
     "output_type": "stream",
     "text": [
      "GBT 1 Accuracy Score (all 20 features): 0.6623889437314906. \n",
      "GBT 2 Accuracy Score (top 5 features): 0.6574531095755183.\n"
     ]
    }
   ],
   "source": [
    "print(f'GBT 1 Accuracy Score (all 20 features): {gbt1_accuracy_score}. \\nGBT 2 Accuracy Score (top 5 features): {gbt2_accuracy_score}.')"
   ]
  },
  {
   "cell_type": "code",
   "execution_count": 103,
   "metadata": {},
   "outputs": [
    {
     "name": "stdout",
     "output_type": "stream",
     "text": [
      "GBT1 Class. Report (all 20 features):               precision    recall  f1-score   support\n",
      "\n",
      "          PG       0.81      0.80      0.80       218\n",
      "          SG       0.59      0.63      0.61       237\n",
      "          SF       0.56      0.57      0.57       202\n",
      "          PF       0.65      0.60      0.62       204\n",
      "           C       0.72      0.72      0.72       152\n",
      "\n",
      "    accuracy                           0.66      1013\n",
      "   macro avg       0.67      0.66      0.67      1013\n",
      "weighted avg       0.66      0.66      0.66      1013\n",
      ". \n",
      "GBT2 Class. Report (top 5 features):               precision    recall  f1-score   support\n",
      "\n",
      "          PG       0.80      0.84      0.82       218\n",
      "          SG       0.62      0.62      0.62       237\n",
      "          SF       0.54      0.53      0.53       202\n",
      "          PF       0.60      0.59      0.60       204\n",
      "           C       0.72      0.70      0.71       152\n",
      "\n",
      "    accuracy                           0.66      1013\n",
      "   macro avg       0.66      0.66      0.66      1013\n",
      "weighted avg       0.66      0.66      0.66      1013\n",
      ".\n"
     ]
    }
   ],
   "source": [
    "print(f'GBT1 Class. Report (all 20 features): {gbt1_class_report}. \\nGBT2 Class. Report (top 5 features): {gbt2_class_report}.')"
   ]
  },
  {
   "cell_type": "markdown",
   "metadata": {},
   "source": [
    "# Final Conclusion:\n",
    "**Best Accuracy Score: Random Forest 1 model: 71.4%**  \n",
    "**Best Classification Report Scores: Random Forest 1 model: 72% precision, 71% recall, 72% F1 score**  \n",
    "**Best Overall Model: Random Forest 1 model**"
   ]
  },
  {
   "cell_type": "code",
   "execution_count": 104,
   "metadata": {},
   "outputs": [],
   "source": [
    "# Selecting players who define their position well:\n",
    "pg_steph_row = original_df.loc[((original_df['Player'] == 'Stephen Curry') & (original_df['Age'] == 26))]\n",
    "sg_beal_row = original_df.loc[((original_df['Player'] == 'Bradley Beal') & (original_df['Age'] == 24))]\n",
    "sf_kawhi_row = original_df.loc[((original_df['Player'] == 'Kawhi Leonard') & (original_df['Age'] == 25))]\n",
    "pf_love_row = original_df.loc[((original_df['Player'] == 'Kevin Love') & (original_df['Age'] == 27))]\n",
    "c_embiid_row = original_df.loc[((original_df['Player'] == 'Joel Embiid') & (original_df['Age'] == 24))]\n",
    "\n",
    "# Concatenate above into one dataframe:\n",
    "position_players_df = pd.concat([pg_steph_row, sg_beal_row, sf_kawhi_row, pf_love_row, c_embiid_row], axis='rows', join='inner')\n",
    "\n",
    "# Drop/Re-order columns to mimic Random Forest 1's dataset:\n",
    "position_players_df = position_players_df[['PTS', 'TRB', 'ORB', 'AST', 'STL', 'BLK', 'FG', 'FGA', 'FG%', '3P', '3PA', '3P%', '2P', '2PA', '2P%', 'FT', 'FTA', 'FT%', 'PF', 'TOV']]\n",
    "\n",
    "# Scale data (model data was scaled, so this data needs to be scaled as well):\n",
    "position_players_df_scaled = scaler.fit_transform(position_players_df)"
   ]
  },
  {
   "cell_type": "code",
   "execution_count": 105,
   "metadata": {},
   "outputs": [],
   "source": [
    "# Selecting players who play a more \"positionless\" game, in which their stats are not confined to the traditional responsibilities of their position:\n",
    "pg_simmons_row = original_df.loc[((original_df['Player'] == 'Ben Simmons') & (original_df['Age'] == 22))]\n",
    "pg_westbrook_row = original_df.loc[((original_df['Player'] == 'Russell Westbrook') & (original_df['Age'] == 24))]\n",
    "sg_harden_row = original_df.loc[((original_df['Player'] == 'James Harden') & (original_df['Age'] == 26))]\n",
    "pf_lebron_row = original_df.loc[((original_df['Player'] == 'LeBron James') & (original_df['Age'] == 33))]\n",
    "pf_draymond_row = original_df.loc[((original_df['Player'] == 'Draymond Green') & (original_df['Age'] == 27))]\n",
    "pf_giannis_row = original_df.loc[((original_df['Player'] == 'Giannis Antetokounmpo') & (original_df['Age'] == 23))]\n",
    "c_gasol_row = original_df.loc[((original_df['Player'] == 'Marc Gasol') & (original_df['Age'] == 33))]\n",
    "\n",
    "# Concatenate above into one dataframe:\n",
    "positionless_players_df = pd.concat([pg_simmons_row, pg_westbrook_row, sg_harden_row, pf_lebron_row, pf_draymond_row, pf_giannis_row, c_gasol_row], axis='rows', join='inner')\n",
    "\n",
    "# Drop/Re-order columns to mimic Random Forest 1's dataset:\n",
    "positionless_players_df = positionless_players_df[['PTS', 'TRB', 'ORB', 'AST', 'STL', 'BLK', 'FG', 'FGA', 'FG%', '3P', '3PA', '3P%', '2P', '2PA', '2P%', 'FT', 'FTA', 'FT%', 'PF', 'TOV']]\n",
    "\n",
    "# Scale data (model data was scaled, so this data needs to be scaled as well):\n",
    "positionless_players_df_scaled = scaler.fit_transform(positionless_players_df)"
   ]
  },
  {
   "cell_type": "markdown",
   "metadata": {},
   "source": [
    " prediction results in points which i encoded like this ,PG = 1, SG = 2, SF = 3, PF = 4, C = 5"
   ]
  },
  {
   "cell_type": "code",
   "execution_count": 106,
   "metadata": {},
   "outputs": [
    {
     "data": {
      "text/plain": [
       "array([1, 2, 3, 4, 5], dtype=int64)"
      ]
     },
     "execution_count": 106,
     "metadata": {},
     "output_type": "execute_result"
    }
   ],
   "source": [
    "#order of players: PG Curry, SG Beal, SF Leonard, PF Love, C Embiid.\n",
    "position_predictions = rf1_model.predict(position_players_df_scaled)\n",
    "position_predictions"
   ]
  },
  {
   "cell_type": "code",
   "execution_count": 107,
   "metadata": {},
   "outputs": [
    {
     "data": {
      "text/plain": [
       "array([4, 2, 2, 3, 4, 4, 4], dtype=int64)"
      ]
     },
     "execution_count": 107,
     "metadata": {},
     "output_type": "execute_result"
    }
   ],
   "source": [
    "#order of players: PG Simmons, PG Westbrook, SG Harden, PF LeBron, PF Draymond, PF Giannis, C Gasol.\n",
    "positionless_predictions = rf1_model.predict(positionless_players_df_scaled)\n",
    "positionless_predictions"
   ]
  },
  {
   "cell_type": "markdown",
   "metadata": {},
   "source": [
    "### The Random Forest 1 model correctly predicted 3 of the 7 positions: it correctly predicted James Harden as a SG, Draymond Green as a PF, and Giannis Antetokounmpo as a PF.\n",
    "### However, it thought PG Ben Simmons was a PF, PG Westbrook was a SG, PF LeBron James was a SF and C Marc Gasol was a PF.\n",
    "### For a center to be mistaken for a power forward, and vice-versa, or for a point guard to be mistaken for a shooting guard, and vice-versa, is not an egregious error.  These positions are similar and share similar responsibilities, and oftentimes, these players do in fact play both positions over the course of a season, or even at different points in the same game.  The most interesting finding here is the one relating to PG Ben Simmons: the model thought he was a PF.  This is something I expected to, and am glad to, see.  Ben Simmons is 6'10\", which is very tall for a point guard.  He is also a notoriously bad shooter for his position, rarely shooting from the outside, and mostly missing when he does.  Therefore, his stats are more similar to those of power forwards, grabbing rebounds and shooting poorly from the outside.  This is why the model thought he was a power forward."
   ]
  },
  {
   "cell_type": "code",
   "execution_count": 108,
   "metadata": {},
   "outputs": [
    {
     "data": {
      "text/html": [
       "<div>\n",
       "<style scoped>\n",
       "    .dataframe tbody tr th:only-of-type {\n",
       "        vertical-align: middle;\n",
       "    }\n",
       "\n",
       "    .dataframe tbody tr th {\n",
       "        vertical-align: top;\n",
       "    }\n",
       "\n",
       "    .dataframe thead th {\n",
       "        text-align: right;\n",
       "    }\n",
       "</style>\n",
       "<table border=\"1\" class=\"dataframe\">\n",
       "  <thead>\n",
       "    <tr style=\"text-align: right;\">\n",
       "      <th></th>\n",
       "      <th>Rk</th>\n",
       "      <th>Unnamed: 1</th>\n",
       "      <th>Age</th>\n",
       "      <th>G</th>\n",
       "      <th>GS</th>\n",
       "      <th>MP</th>\n",
       "      <th>FG</th>\n",
       "      <th>FGA</th>\n",
       "      <th>FG%</th>\n",
       "      <th>3P</th>\n",
       "      <th>3PA</th>\n",
       "      <th>3P%</th>\n",
       "      <th>2P</th>\n",
       "      <th>2PA</th>\n",
       "      <th>2P%</th>\n",
       "      <th>FT</th>\n",
       "      <th>FTA</th>\n",
       "      <th>FT%</th>\n",
       "      <th>ORB</th>\n",
       "      <th>DRB</th>\n",
       "      <th>TRB</th>\n",
       "      <th>AST</th>\n",
       "      <th>STL</th>\n",
       "      <th>BLK</th>\n",
       "      <th>TOV</th>\n",
       "      <th>PF</th>\n",
       "      <th>PTS</th>\n",
       "      <th>Pos</th>\n",
       "    </tr>\n",
       "  </thead>\n",
       "  <tbody>\n",
       "    <tr>\n",
       "      <th>0</th>\n",
       "      <td>1</td>\n",
       "      <td>Julius Randle</td>\n",
       "      <td>26</td>\n",
       "      <td>15</td>\n",
       "      <td>15</td>\n",
       "      <td>557</td>\n",
       "      <td>7.9</td>\n",
       "      <td>16.4</td>\n",
       "      <td>0.484</td>\n",
       "      <td>1.4</td>\n",
       "      <td>4.0</td>\n",
       "      <td>0.355</td>\n",
       "      <td>6.5</td>\n",
       "      <td>12.4</td>\n",
       "      <td>0.526</td>\n",
       "      <td>4.8</td>\n",
       "      <td>6.2</td>\n",
       "      <td>0.771</td>\n",
       "      <td>1.4</td>\n",
       "      <td>9.3</td>\n",
       "      <td>10.7</td>\n",
       "      <td>5.9</td>\n",
       "      <td>0.7</td>\n",
       "      <td>0.2</td>\n",
       "      <td>3.5</td>\n",
       "      <td>3.3</td>\n",
       "      <td>22.1</td>\n",
       "      <td>PF</td>\n",
       "    </tr>\n",
       "    <tr>\n",
       "      <th>1</th>\n",
       "      <td>2</td>\n",
       "      <td>RJ Barrett</td>\n",
       "      <td>20</td>\n",
       "      <td>15</td>\n",
       "      <td>15</td>\n",
       "      <td>556</td>\n",
       "      <td>6.1</td>\n",
       "      <td>15.4</td>\n",
       "      <td>0.395</td>\n",
       "      <td>0.9</td>\n",
       "      <td>4.2</td>\n",
       "      <td>0.215</td>\n",
       "      <td>5.2</td>\n",
       "      <td>11.2</td>\n",
       "      <td>0.462</td>\n",
       "      <td>3.6</td>\n",
       "      <td>4.7</td>\n",
       "      <td>0.753</td>\n",
       "      <td>1.6</td>\n",
       "      <td>5.8</td>\n",
       "      <td>7.4</td>\n",
       "      <td>3.3</td>\n",
       "      <td>0.8</td>\n",
       "      <td>0.3</td>\n",
       "      <td>1.8</td>\n",
       "      <td>2.1</td>\n",
       "      <td>16.6</td>\n",
       "      <td>SG</td>\n",
       "    </tr>\n",
       "    <tr>\n",
       "      <th>2</th>\n",
       "      <td>3</td>\n",
       "      <td>Mitchell Robinson</td>\n",
       "      <td>22</td>\n",
       "      <td>15</td>\n",
       "      <td>15</td>\n",
       "      <td>450</td>\n",
       "      <td>4.6</td>\n",
       "      <td>7.2</td>\n",
       "      <td>0.644</td>\n",
       "      <td>0.0</td>\n",
       "      <td>0.0</td>\n",
       "      <td>NaN</td>\n",
       "      <td>4.6</td>\n",
       "      <td>7.2</td>\n",
       "      <td>0.644</td>\n",
       "      <td>0.9</td>\n",
       "      <td>2.0</td>\n",
       "      <td>0.440</td>\n",
       "      <td>4.6</td>\n",
       "      <td>5.3</td>\n",
       "      <td>9.9</td>\n",
       "      <td>0.6</td>\n",
       "      <td>1.7</td>\n",
       "      <td>2.2</td>\n",
       "      <td>0.9</td>\n",
       "      <td>3.3</td>\n",
       "      <td>10.2</td>\n",
       "      <td>C</td>\n",
       "    </tr>\n",
       "    <tr>\n",
       "      <th>3</th>\n",
       "      <td>4</td>\n",
       "      <td>Elfrid Payton</td>\n",
       "      <td>26</td>\n",
       "      <td>15</td>\n",
       "      <td>15</td>\n",
       "      <td>436</td>\n",
       "      <td>6.9</td>\n",
       "      <td>15.3</td>\n",
       "      <td>0.449</td>\n",
       "      <td>0.7</td>\n",
       "      <td>2.4</td>\n",
       "      <td>0.310</td>\n",
       "      <td>6.1</td>\n",
       "      <td>12.9</td>\n",
       "      <td>0.474</td>\n",
       "      <td>1.8</td>\n",
       "      <td>2.6</td>\n",
       "      <td>0.688</td>\n",
       "      <td>1.7</td>\n",
       "      <td>3.4</td>\n",
       "      <td>5.1</td>\n",
       "      <td>5.0</td>\n",
       "      <td>0.8</td>\n",
       "      <td>0.2</td>\n",
       "      <td>2.8</td>\n",
       "      <td>2.6</td>\n",
       "      <td>16.3</td>\n",
       "      <td>PG</td>\n",
       "    </tr>\n",
       "    <tr>\n",
       "      <th>4</th>\n",
       "      <td>5</td>\n",
       "      <td>Reggie Bullock</td>\n",
       "      <td>29</td>\n",
       "      <td>13</td>\n",
       "      <td>13</td>\n",
       "      <td>376</td>\n",
       "      <td>4.1</td>\n",
       "      <td>10.6</td>\n",
       "      <td>0.387</td>\n",
       "      <td>1.9</td>\n",
       "      <td>6.0</td>\n",
       "      <td>0.317</td>\n",
       "      <td>2.2</td>\n",
       "      <td>4.6</td>\n",
       "      <td>0.479</td>\n",
       "      <td>0.7</td>\n",
       "      <td>1.0</td>\n",
       "      <td>0.700</td>\n",
       "      <td>0.5</td>\n",
       "      <td>5.0</td>\n",
       "      <td>5.5</td>\n",
       "      <td>1.6</td>\n",
       "      <td>1.0</td>\n",
       "      <td>0.2</td>\n",
       "      <td>1.1</td>\n",
       "      <td>3.1</td>\n",
       "      <td>10.8</td>\n",
       "      <td>SF</td>\n",
       "    </tr>\n",
       "    <tr>\n",
       "      <th>5</th>\n",
       "      <td>6</td>\n",
       "      <td>Kevin Knox</td>\n",
       "      <td>21</td>\n",
       "      <td>15</td>\n",
       "      <td>0</td>\n",
       "      <td>307</td>\n",
       "      <td>4.7</td>\n",
       "      <td>11.3</td>\n",
       "      <td>0.417</td>\n",
       "      <td>2.7</td>\n",
       "      <td>6.4</td>\n",
       "      <td>0.418</td>\n",
       "      <td>2.0</td>\n",
       "      <td>4.8</td>\n",
       "      <td>0.415</td>\n",
       "      <td>0.9</td>\n",
       "      <td>1.2</td>\n",
       "      <td>0.800</td>\n",
       "      <td>0.8</td>\n",
       "      <td>3.8</td>\n",
       "      <td>4.6</td>\n",
       "      <td>1.5</td>\n",
       "      <td>0.7</td>\n",
       "      <td>0.7</td>\n",
       "      <td>1.6</td>\n",
       "      <td>2.9</td>\n",
       "      <td>13.0</td>\n",
       "      <td>SF</td>\n",
       "    </tr>\n",
       "    <tr>\n",
       "      <th>6</th>\n",
       "      <td>7</td>\n",
       "      <td>Austin Rivers</td>\n",
       "      <td>28</td>\n",
       "      <td>11</td>\n",
       "      <td>2</td>\n",
       "      <td>281</td>\n",
       "      <td>4.7</td>\n",
       "      <td>11.3</td>\n",
       "      <td>0.420</td>\n",
       "      <td>2.6</td>\n",
       "      <td>6.5</td>\n",
       "      <td>0.392</td>\n",
       "      <td>2.2</td>\n",
       "      <td>4.7</td>\n",
       "      <td>0.459</td>\n",
       "      <td>0.3</td>\n",
       "      <td>0.5</td>\n",
       "      <td>0.500</td>\n",
       "      <td>0.4</td>\n",
       "      <td>3.6</td>\n",
       "      <td>4.0</td>\n",
       "      <td>3.5</td>\n",
       "      <td>0.6</td>\n",
       "      <td>0.0</td>\n",
       "      <td>1.8</td>\n",
       "      <td>2.7</td>\n",
       "      <td>12.3</td>\n",
       "      <td>SG</td>\n",
       "    </tr>\n",
       "    <tr>\n",
       "      <th>7</th>\n",
       "      <td>8</td>\n",
       "      <td>Nerlens Noel</td>\n",
       "      <td>26</td>\n",
       "      <td>13</td>\n",
       "      <td>0</td>\n",
       "      <td>198</td>\n",
       "      <td>3.1</td>\n",
       "      <td>5.6</td>\n",
       "      <td>0.548</td>\n",
       "      <td>0.0</td>\n",
       "      <td>0.2</td>\n",
       "      <td>0.000</td>\n",
       "      <td>3.1</td>\n",
       "      <td>5.5</td>\n",
       "      <td>0.567</td>\n",
       "      <td>0.7</td>\n",
       "      <td>1.3</td>\n",
       "      <td>0.571</td>\n",
       "      <td>2.9</td>\n",
       "      <td>7.1</td>\n",
       "      <td>10.0</td>\n",
       "      <td>0.7</td>\n",
       "      <td>2.2</td>\n",
       "      <td>4.0</td>\n",
       "      <td>2.9</td>\n",
       "      <td>4.5</td>\n",
       "      <td>6.9</td>\n",
       "      <td>C</td>\n",
       "    </tr>\n",
       "    <tr>\n",
       "      <th>8</th>\n",
       "      <td>9</td>\n",
       "      <td>Immanuel Quickley</td>\n",
       "      <td>21</td>\n",
       "      <td>11</td>\n",
       "      <td>0</td>\n",
       "      <td>197</td>\n",
       "      <td>6.8</td>\n",
       "      <td>16.8</td>\n",
       "      <td>0.402</td>\n",
       "      <td>2.4</td>\n",
       "      <td>6.9</td>\n",
       "      <td>0.342</td>\n",
       "      <td>4.4</td>\n",
       "      <td>9.9</td>\n",
       "      <td>0.444</td>\n",
       "      <td>4.2</td>\n",
       "      <td>4.4</td>\n",
       "      <td>0.958</td>\n",
       "      <td>0.2</td>\n",
       "      <td>3.1</td>\n",
       "      <td>3.3</td>\n",
       "      <td>5.3</td>\n",
       "      <td>1.3</td>\n",
       "      <td>0.7</td>\n",
       "      <td>1.8</td>\n",
       "      <td>4.2</td>\n",
       "      <td>20.1</td>\n",
       "      <td>PG</td>\n",
       "    </tr>\n",
       "  </tbody>\n",
       "</table>\n",
       "</div>"
      ],
      "text/plain": [
       "   Rk         Unnamed: 1  Age   G  GS   MP   FG   FGA    FG%   3P  3PA    3P%  \\\n",
       "0   1      Julius Randle   26  15  15  557  7.9  16.4  0.484  1.4  4.0  0.355   \n",
       "1   2         RJ Barrett   20  15  15  556  6.1  15.4  0.395  0.9  4.2  0.215   \n",
       "2   3  Mitchell Robinson   22  15  15  450  4.6   7.2  0.644  0.0  0.0    NaN   \n",
       "3   4      Elfrid Payton   26  15  15  436  6.9  15.3  0.449  0.7  2.4  0.310   \n",
       "4   5     Reggie Bullock   29  13  13  376  4.1  10.6  0.387  1.9  6.0  0.317   \n",
       "5   6         Kevin Knox   21  15   0  307  4.7  11.3  0.417  2.7  6.4  0.418   \n",
       "6   7      Austin Rivers   28  11   2  281  4.7  11.3  0.420  2.6  6.5  0.392   \n",
       "7   8       Nerlens Noel   26  13   0  198  3.1   5.6  0.548  0.0  0.2  0.000   \n",
       "8   9  Immanuel Quickley   21  11   0  197  6.8  16.8  0.402  2.4  6.9  0.342   \n",
       "\n",
       "    2P   2PA    2P%   FT  FTA    FT%  ORB  DRB   TRB  AST  STL  BLK  TOV   PF  \\\n",
       "0  6.5  12.4  0.526  4.8  6.2  0.771  1.4  9.3  10.7  5.9  0.7  0.2  3.5  3.3   \n",
       "1  5.2  11.2  0.462  3.6  4.7  0.753  1.6  5.8   7.4  3.3  0.8  0.3  1.8  2.1   \n",
       "2  4.6   7.2  0.644  0.9  2.0  0.440  4.6  5.3   9.9  0.6  1.7  2.2  0.9  3.3   \n",
       "3  6.1  12.9  0.474  1.8  2.6  0.688  1.7  3.4   5.1  5.0  0.8  0.2  2.8  2.6   \n",
       "4  2.2   4.6  0.479  0.7  1.0  0.700  0.5  5.0   5.5  1.6  1.0  0.2  1.1  3.1   \n",
       "5  2.0   4.8  0.415  0.9  1.2  0.800  0.8  3.8   4.6  1.5  0.7  0.7  1.6  2.9   \n",
       "6  2.2   4.7  0.459  0.3  0.5  0.500  0.4  3.6   4.0  3.5  0.6  0.0  1.8  2.7   \n",
       "7  3.1   5.5  0.567  0.7  1.3  0.571  2.9  7.1  10.0  0.7  2.2  4.0  2.9  4.5   \n",
       "8  4.4   9.9  0.444  4.2  4.4  0.958  0.2  3.1   3.3  5.3  1.3  0.7  1.8  4.2   \n",
       "\n",
       "    PTS Pos  \n",
       "0  22.1  PF  \n",
       "1  16.6  SG  \n",
       "2  10.2   C  \n",
       "3  16.3  PG  \n",
       "4  10.8  SF  \n",
       "5  13.0  SF  \n",
       "6  12.3  SG  \n",
       "7   6.9   C  \n",
       "8  20.1  PG  "
      ]
     },
     "execution_count": 108,
     "metadata": {},
     "output_type": "execute_result"
    }
   ],
   "source": [
    "# Load in 2020-2021 Knicks dataframe:\n",
    "knicks_csv_path = Path('CSVs/knicks.csv')\n",
    "knicks_df = pd.read_csv(knicks_csv_path)\n",
    "\n",
    "# This particular dataset did not contain a \"Position\" column.  Let's add one ourselves:\n",
    "positions = {'Position': ['PF', 'SG', 'C', 'PG', 'SF', 'SF', 'SG', 'C', 'PG', 'SG', 'PF', 'PG', 'PG', 'SG', 'SF', 'PG']}\n",
    "df_positions = pd.DataFrame(positions)\n",
    "knicks_df['Pos'] = df_positions\n",
    "\n",
    "# Filter DataFrame to only include rows with at least 100 Minutes Played:\n",
    "# We are only 15 games through the 2020-2021 season at the time of this writing,\n",
    "# so a few players who have been injured have very few minutes: remove them\n",
    "# from the dataset.\n",
    "\n",
    "knicks_df = knicks_df[knicks_df.MP >= 100]\n",
    "knicks_df"
   ]
  },
  {
   "cell_type": "code",
   "execution_count": 109,
   "metadata": {},
   "outputs": [
    {
     "data": {
      "text/html": [
       "<div>\n",
       "<style scoped>\n",
       "    .dataframe tbody tr th:only-of-type {\n",
       "        vertical-align: middle;\n",
       "    }\n",
       "\n",
       "    .dataframe tbody tr th {\n",
       "        vertical-align: top;\n",
       "    }\n",
       "\n",
       "    .dataframe thead th {\n",
       "        text-align: right;\n",
       "    }\n",
       "</style>\n",
       "<table border=\"1\" class=\"dataframe\">\n",
       "  <thead>\n",
       "    <tr style=\"text-align: right;\">\n",
       "      <th></th>\n",
       "      <th>PTS</th>\n",
       "      <th>TRB</th>\n",
       "      <th>ORB</th>\n",
       "      <th>AST</th>\n",
       "      <th>STL</th>\n",
       "      <th>BLK</th>\n",
       "      <th>FG</th>\n",
       "      <th>FGA</th>\n",
       "      <th>FG%</th>\n",
       "      <th>3P</th>\n",
       "      <th>3PA</th>\n",
       "      <th>3P%</th>\n",
       "      <th>2P</th>\n",
       "      <th>2PA</th>\n",
       "      <th>2P%</th>\n",
       "      <th>FT</th>\n",
       "      <th>FTA</th>\n",
       "      <th>FT%</th>\n",
       "      <th>PF</th>\n",
       "      <th>TOV</th>\n",
       "    </tr>\n",
       "  </thead>\n",
       "  <tbody>\n",
       "    <tr>\n",
       "      <th>0</th>\n",
       "      <td>22.1</td>\n",
       "      <td>10.7</td>\n",
       "      <td>1.4</td>\n",
       "      <td>5.9</td>\n",
       "      <td>0.7</td>\n",
       "      <td>0.2</td>\n",
       "      <td>7.9</td>\n",
       "      <td>16.4</td>\n",
       "      <td>0.484</td>\n",
       "      <td>1.4</td>\n",
       "      <td>4.0</td>\n",
       "      <td>0.355</td>\n",
       "      <td>6.5</td>\n",
       "      <td>12.4</td>\n",
       "      <td>0.526</td>\n",
       "      <td>4.8</td>\n",
       "      <td>6.2</td>\n",
       "      <td>0.771</td>\n",
       "      <td>3.3</td>\n",
       "      <td>3.5</td>\n",
       "    </tr>\n",
       "    <tr>\n",
       "      <th>1</th>\n",
       "      <td>16.6</td>\n",
       "      <td>7.4</td>\n",
       "      <td>1.6</td>\n",
       "      <td>3.3</td>\n",
       "      <td>0.8</td>\n",
       "      <td>0.3</td>\n",
       "      <td>6.1</td>\n",
       "      <td>15.4</td>\n",
       "      <td>0.395</td>\n",
       "      <td>0.9</td>\n",
       "      <td>4.2</td>\n",
       "      <td>0.215</td>\n",
       "      <td>5.2</td>\n",
       "      <td>11.2</td>\n",
       "      <td>0.462</td>\n",
       "      <td>3.6</td>\n",
       "      <td>4.7</td>\n",
       "      <td>0.753</td>\n",
       "      <td>2.1</td>\n",
       "      <td>1.8</td>\n",
       "    </tr>\n",
       "    <tr>\n",
       "      <th>2</th>\n",
       "      <td>10.2</td>\n",
       "      <td>9.9</td>\n",
       "      <td>4.6</td>\n",
       "      <td>0.6</td>\n",
       "      <td>1.7</td>\n",
       "      <td>2.2</td>\n",
       "      <td>4.6</td>\n",
       "      <td>7.2</td>\n",
       "      <td>0.644</td>\n",
       "      <td>0.0</td>\n",
       "      <td>0.0</td>\n",
       "      <td>0.000</td>\n",
       "      <td>4.6</td>\n",
       "      <td>7.2</td>\n",
       "      <td>0.644</td>\n",
       "      <td>0.9</td>\n",
       "      <td>2.0</td>\n",
       "      <td>0.440</td>\n",
       "      <td>3.3</td>\n",
       "      <td>0.9</td>\n",
       "    </tr>\n",
       "    <tr>\n",
       "      <th>3</th>\n",
       "      <td>16.3</td>\n",
       "      <td>5.1</td>\n",
       "      <td>1.7</td>\n",
       "      <td>5.0</td>\n",
       "      <td>0.8</td>\n",
       "      <td>0.2</td>\n",
       "      <td>6.9</td>\n",
       "      <td>15.3</td>\n",
       "      <td>0.449</td>\n",
       "      <td>0.7</td>\n",
       "      <td>2.4</td>\n",
       "      <td>0.310</td>\n",
       "      <td>6.1</td>\n",
       "      <td>12.9</td>\n",
       "      <td>0.474</td>\n",
       "      <td>1.8</td>\n",
       "      <td>2.6</td>\n",
       "      <td>0.688</td>\n",
       "      <td>2.6</td>\n",
       "      <td>2.8</td>\n",
       "    </tr>\n",
       "    <tr>\n",
       "      <th>4</th>\n",
       "      <td>10.8</td>\n",
       "      <td>5.5</td>\n",
       "      <td>0.5</td>\n",
       "      <td>1.6</td>\n",
       "      <td>1.0</td>\n",
       "      <td>0.2</td>\n",
       "      <td>4.1</td>\n",
       "      <td>10.6</td>\n",
       "      <td>0.387</td>\n",
       "      <td>1.9</td>\n",
       "      <td>6.0</td>\n",
       "      <td>0.317</td>\n",
       "      <td>2.2</td>\n",
       "      <td>4.6</td>\n",
       "      <td>0.479</td>\n",
       "      <td>0.7</td>\n",
       "      <td>1.0</td>\n",
       "      <td>0.700</td>\n",
       "      <td>3.1</td>\n",
       "      <td>1.1</td>\n",
       "    </tr>\n",
       "    <tr>\n",
       "      <th>5</th>\n",
       "      <td>13.0</td>\n",
       "      <td>4.6</td>\n",
       "      <td>0.8</td>\n",
       "      <td>1.5</td>\n",
       "      <td>0.7</td>\n",
       "      <td>0.7</td>\n",
       "      <td>4.7</td>\n",
       "      <td>11.3</td>\n",
       "      <td>0.417</td>\n",
       "      <td>2.7</td>\n",
       "      <td>6.4</td>\n",
       "      <td>0.418</td>\n",
       "      <td>2.0</td>\n",
       "      <td>4.8</td>\n",
       "      <td>0.415</td>\n",
       "      <td>0.9</td>\n",
       "      <td>1.2</td>\n",
       "      <td>0.800</td>\n",
       "      <td>2.9</td>\n",
       "      <td>1.6</td>\n",
       "    </tr>\n",
       "    <tr>\n",
       "      <th>6</th>\n",
       "      <td>12.3</td>\n",
       "      <td>4.0</td>\n",
       "      <td>0.4</td>\n",
       "      <td>3.5</td>\n",
       "      <td>0.6</td>\n",
       "      <td>0.0</td>\n",
       "      <td>4.7</td>\n",
       "      <td>11.3</td>\n",
       "      <td>0.420</td>\n",
       "      <td>2.6</td>\n",
       "      <td>6.5</td>\n",
       "      <td>0.392</td>\n",
       "      <td>2.2</td>\n",
       "      <td>4.7</td>\n",
       "      <td>0.459</td>\n",
       "      <td>0.3</td>\n",
       "      <td>0.5</td>\n",
       "      <td>0.500</td>\n",
       "      <td>2.7</td>\n",
       "      <td>1.8</td>\n",
       "    </tr>\n",
       "    <tr>\n",
       "      <th>7</th>\n",
       "      <td>6.9</td>\n",
       "      <td>10.0</td>\n",
       "      <td>2.9</td>\n",
       "      <td>0.7</td>\n",
       "      <td>2.2</td>\n",
       "      <td>4.0</td>\n",
       "      <td>3.1</td>\n",
       "      <td>5.6</td>\n",
       "      <td>0.548</td>\n",
       "      <td>0.0</td>\n",
       "      <td>0.2</td>\n",
       "      <td>0.000</td>\n",
       "      <td>3.1</td>\n",
       "      <td>5.5</td>\n",
       "      <td>0.567</td>\n",
       "      <td>0.7</td>\n",
       "      <td>1.3</td>\n",
       "      <td>0.571</td>\n",
       "      <td>4.5</td>\n",
       "      <td>2.9</td>\n",
       "    </tr>\n",
       "    <tr>\n",
       "      <th>8</th>\n",
       "      <td>20.1</td>\n",
       "      <td>3.3</td>\n",
       "      <td>0.2</td>\n",
       "      <td>5.3</td>\n",
       "      <td>1.3</td>\n",
       "      <td>0.7</td>\n",
       "      <td>6.8</td>\n",
       "      <td>16.8</td>\n",
       "      <td>0.402</td>\n",
       "      <td>2.4</td>\n",
       "      <td>6.9</td>\n",
       "      <td>0.342</td>\n",
       "      <td>4.4</td>\n",
       "      <td>9.9</td>\n",
       "      <td>0.444</td>\n",
       "      <td>4.2</td>\n",
       "      <td>4.4</td>\n",
       "      <td>0.958</td>\n",
       "      <td>4.2</td>\n",
       "      <td>1.8</td>\n",
       "    </tr>\n",
       "  </tbody>\n",
       "</table>\n",
       "</div>"
      ],
      "text/plain": [
       "    PTS   TRB  ORB  AST  STL  BLK   FG   FGA    FG%   3P  3PA    3P%   2P  \\\n",
       "0  22.1  10.7  1.4  5.9  0.7  0.2  7.9  16.4  0.484  1.4  4.0  0.355  6.5   \n",
       "1  16.6   7.4  1.6  3.3  0.8  0.3  6.1  15.4  0.395  0.9  4.2  0.215  5.2   \n",
       "2  10.2   9.9  4.6  0.6  1.7  2.2  4.6   7.2  0.644  0.0  0.0  0.000  4.6   \n",
       "3  16.3   5.1  1.7  5.0  0.8  0.2  6.9  15.3  0.449  0.7  2.4  0.310  6.1   \n",
       "4  10.8   5.5  0.5  1.6  1.0  0.2  4.1  10.6  0.387  1.9  6.0  0.317  2.2   \n",
       "5  13.0   4.6  0.8  1.5  0.7  0.7  4.7  11.3  0.417  2.7  6.4  0.418  2.0   \n",
       "6  12.3   4.0  0.4  3.5  0.6  0.0  4.7  11.3  0.420  2.6  6.5  0.392  2.2   \n",
       "7   6.9  10.0  2.9  0.7  2.2  4.0  3.1   5.6  0.548  0.0  0.2  0.000  3.1   \n",
       "8  20.1   3.3  0.2  5.3  1.3  0.7  6.8  16.8  0.402  2.4  6.9  0.342  4.4   \n",
       "\n",
       "    2PA    2P%   FT  FTA    FT%   PF  TOV  \n",
       "0  12.4  0.526  4.8  6.2  0.771  3.3  3.5  \n",
       "1  11.2  0.462  3.6  4.7  0.753  2.1  1.8  \n",
       "2   7.2  0.644  0.9  2.0  0.440  3.3  0.9  \n",
       "3  12.9  0.474  1.8  2.6  0.688  2.6  2.8  \n",
       "4   4.6  0.479  0.7  1.0  0.700  3.1  1.1  \n",
       "5   4.8  0.415  0.9  1.2  0.800  2.9  1.6  \n",
       "6   4.7  0.459  0.3  0.5  0.500  2.7  1.8  \n",
       "7   5.5  0.567  0.7  1.3  0.571  4.5  2.9  \n",
       "8   9.9  0.444  4.2  4.4  0.958  4.2  1.8  "
      ]
     },
     "execution_count": 109,
     "metadata": {},
     "output_type": "execute_result"
    }
   ],
   "source": [
    "# Drop/Re-order columns to mimic Random Forest 1's dataset:\n",
    "knicks_df = knicks_df[['PTS', 'TRB', 'ORB', 'AST', 'STL', 'BLK', 'FG', 'FGA', 'FG%', '3P', '3PA', '3P%', '2P', '2PA', '2P%', 'FT', 'FTA', 'FT%', 'PF', 'TOV']]\n",
    "\n",
    "# Replace \"NaN\" values with \"0\" instead of dropping null rows completely (helps preserve the data):\n",
    "knicks_df[np.isnan(knicks_df)] = 0.0\n",
    "\n",
    "knicks_df"
   ]
  },
  {
   "cell_type": "code",
   "execution_count": 110,
   "metadata": {},
   "outputs": [],
   "source": [
    "# Scale data (model data was scaled, so this data needs to be scaled as well):\n",
    "knicks_df_scaled = scaler.fit_transform(knicks_df)\n"
   ]
  },
  {
   "cell_type": "code",
   "execution_count": 111,
   "metadata": {},
   "outputs": [
    {
     "data": {
      "text/plain": [
       "array([[ 1.69281681,  1.48156676, -0.1250782 ,  1.48492907, -0.75800914,\n",
       "        -0.59683607,  1.67405391,  1.09632868,  0.28901941,  0.        ,\n",
       "        -0.02639359,  0.62884109,  1.51367546,  1.30206153,  0.43779469,\n",
       "         1.7225638 ,  1.89271682,  0.55504257,  0.15493173,  1.81057146],\n",
       "       [ 0.50592684,  0.25244573,  0.02501564,  0.13289249, -0.56309251,\n",
       "        -0.51666406,  0.452447  ,  0.83460565, -0.8133832 , -0.49889258,\n",
       "         0.05278717, -0.30773075,  0.71592758,  0.93585673, -0.51739373,\n",
       "         0.98724012,  1.09172381,  0.4364187 , -1.51833094, -0.27226639],\n",
       "       [-0.87518149,  1.18359803,  2.27642321, -1.27114551,  1.19115723,\n",
       "         1.00660413, -0.56555875, -1.31152317,  2.2708668 , -1.39689922,\n",
       "        -1.61000875, -1.7460375 ,  0.34773625, -0.28482596,  2.19892334,\n",
       "        -0.66723815, -0.35006361, -1.62631867,  0.15493173, -1.37494524],\n",
       "       [ 0.44118738, -0.60421438,  0.10006256,  1.01691641, -0.56309251,\n",
       "        -0.59683607,  0.99538341,  0.80843335, -0.14450971, -0.69844961,\n",
       "        -0.65983965,  0.32780014,  1.26821457,  1.45464687, -0.3382959 ,\n",
       "        -0.11574539, -0.02966641,  0.00805471, -0.82113816,  0.95293235],\n",
       "       [-0.74570259, -0.45523001, -0.80050047, -0.75113144, -0.17325923,\n",
       "        -0.59683607, -0.90489401, -0.42166488, -0.91247557,  0.49889258,\n",
       "         0.765414  ,  0.37462874, -1.12502906, -1.07826971, -0.2636718 ,\n",
       "        -0.7897921 , -0.88405895,  0.08713729, -0.12394538, -1.1299055 ],\n",
       "       [-0.2709466 , -0.79044484, -0.57535971, -0.80313285, -0.75800914,\n",
       "        -0.19597602, -0.4976917 , -0.23845876, -0.54087918,  1.29712071,\n",
       "         0.92377551,  1.05029842, -1.2477595 , -1.01723557, -1.21886022,\n",
       "        -0.66723815, -0.77725989,  0.74615881, -0.4028225 , -0.51730613],\n",
       "       [-0.42200532, -1.01392139, -0.87554739,  0.2368953 , -0.95292578,\n",
       "        -0.75718009, -0.4976917 , -0.23845876, -0.50371954,  1.19734219,\n",
       "         0.96336589,  0.87636365, -1.12502906, -1.04775264, -0.56216818,\n",
       "        -1.03489999, -1.15105662, -1.23090576, -0.68169961, -0.27226639],\n",
       "       [-1.58731547,  1.22084412,  1.00062559, -1.2191441 ,  2.16574041,\n",
       "         2.4497003 , -1.58356451, -1.73028001,  1.08175836, -1.39689922,\n",
       "        -1.53082799, -1.7460375 , -0.57274206, -0.8036161 ,  1.04971227,\n",
       "        -0.7897921 , -0.72386035, -0.76300047,  1.8281944 ,  1.07545222],\n",
       "       [ 1.26122045, -1.27464403, -1.02564123,  1.17292063,  0.41149068,\n",
       "        -0.19597602,  0.92751636,  1.20101789, -0.72667737,  0.99778516,\n",
       "         1.12172741,  0.54187371,  0.22500581,  0.53913485, -0.78604047,\n",
       "         1.35490196,  0.93152521,  1.78741282,  1.40987873, -0.27226639]])"
      ]
     },
     "execution_count": 111,
     "metadata": {},
     "output_type": "execute_result"
    }
   ],
   "source": [
    "knicks_df_scaled"
   ]
  },
  {
   "cell_type": "markdown",
   "metadata": {},
   "source": [
    "### prediction results in points which i encoded like this ,PG = 1, SG = 2, SF = 3, PF = 4, C = 5"
   ]
  },
  {
   "cell_type": "code",
   "execution_count": 112,
   "metadata": {},
   "outputs": [
    {
     "data": {
      "text/plain": [
       "array([4, 3, 5, 1, 3, 2, 2, 5, 1], dtype=int64)"
      ]
     },
     "execution_count": 112,
     "metadata": {},
     "output_type": "execute_result"
    }
   ],
   "source": [
    "# Predict Knicks data:\n",
    "knicks_predictions = rf1_model.predict(knicks_df_scaled)\n",
    "knicks_predictions"
   ]
  },
  {
   "cell_type": "code",
   "execution_count": null,
   "metadata": {},
   "outputs": [],
   "source": []
  }
 ],
 "metadata": {
  "kernelspec": {
   "display_name": "Python 3",
   "language": "python",
   "name": "python3"
  },
  "language_info": {
   "codemirror_mode": {
    "name": "ipython",
    "version": 3
   },
   "file_extension": ".py",
   "mimetype": "text/x-python",
   "name": "python",
   "nbconvert_exporter": "python",
   "pygments_lexer": "ipython3",
   "version": "3.7.3"
  }
 },
 "nbformat": 4,
 "nbformat_minor": 2
}
